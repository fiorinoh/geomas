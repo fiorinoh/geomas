{
 "cells": [
  {
   "cell_type": "markdown",
   "metadata": {},
   "source": [
    "# Structures de données : les tuples"
   ]
  },
  {
   "cell_type": "markdown",
   "metadata": {},
   "source": [
    "## Exercice 1 - Alignement de points\n",
    "\n",
    "Dans cet exercice, nous allons utiliser la notion de tuple. Ainsi, un point dans le plan sera un couple avec une abscisse et une ordonnée.  \n",
    "\n",
    "Q1. Ecrire un programme python qui :\n",
    "1. lit les coordonnées de 3 points A, B et C, notés $(x_A, y_A)$, $(x_B, y_B)$ et $(x_C, y_C)$\n",
    "2. affecte une variable booléenne *sont_alignes* qui vaut vrai ssi ces 3 points sont alignés\n",
    "3. affecte une variable booléenne *sont_orthogonaux* qui vaut vrai ssi les droites $(AB)$ et $(AC)$ sont orthogonales\n",
    "4. affiche la valeur de ces deux variables booléennes.\n",
    "\n",
    "Indications :  \n",
    "- A, B et C sont alignés ssi C appartient à la droite $(AB)$, c’est-à-dire ssi $(x_C, y_C)$ vérifie l’équation : \\[y=m.x+p\\ \\mbox{avec}\\ m = \\frac{(y_B - y_A)}{(x_B - x_A)}\\ \\mbox{et}\\ p = y_A - m.x_A\\]\n",
    "- $(AB)$ et $(AC)$ orthogonales ssi $\\overrightarrow{AB}.\\overrightarrow{AC} = 0$, c’est-à-dire ssi :\n",
    "\\[(x_B − x_A).(x_C − x_A)+(y_B − y_A).(y_C − y_A)=0\\]"
   ]
  },
  {
   "cell_type": "code",
   "execution_count": 2,
   "metadata": {},
   "outputs": [],
   "source": [
    "def lire3points():\n",
    "    print(\"Point A\")\n",
    "    xa = int(input('Saisissez un entier x : '))\n",
    "    ya = int(input('Saisissez un entier y : '))\n",
    "    a = (xa, ya)\n",
    "    \n",
    "    print(\"Point B\")\n",
    "    xb = int(input('Saisissez un entier x : '))\n",
    "    yb = int(input('Saisissez un entier y : '))\n",
    "    b = (xb, yb)\n",
    "    \n",
    "    print(\"Point C\")\n",
    "    xc = int(input('Saisissez un entier x : '))\n",
    "    yc = int(input('Saisissez un entier y : '))\n",
    "    c = (xc, yc)\n",
    "    \n",
    "    return (a, b, c)"
   ]
  },
  {
   "cell_type": "code",
   "execution_count": 3,
   "metadata": {},
   "outputs": [
    {
     "name": "stdout",
     "output_type": "stream",
     "text": [
      "Point A\n",
      "Saisissez un entier x : 1\n",
      "Saisissez un entier y : 0\n",
      "Point B\n",
      "Saisissez un entier x : 2\n",
      "Saisissez un entier y : -3\n",
      "Point C\n",
      "Saisissez un entier x : 5\n",
      "Saisissez un entier y : 8\n"
     ]
    },
    {
     "data": {
      "text/plain": [
       "((1, 0), (2, -3), (5, 8))"
      ]
     },
     "execution_count": 3,
     "metadata": {},
     "output_type": "execute_result"
    }
   ],
   "source": [
    "lire3points()"
   ]
  },
  {
   "cell_type": "code",
   "execution_count": 3,
   "metadata": {},
   "outputs": [
    {
     "data": {
      "text/plain": [
       "2"
      ]
     },
     "execution_count": 3,
     "metadata": {},
     "output_type": "execute_result"
    }
   ],
   "source": [
    "t = (5, 6)\n",
    "len(t)"
   ]
  },
  {
   "cell_type": "code",
   "execution_count": 5,
   "metadata": {},
   "outputs": [],
   "source": [
    "def alignes(pa, pb, pc):\n",
    "    \n",
    "    xa = pa[0]; ya = pa[1]\n",
    "    xb = pb[0]; yb = pb[1]\n",
    "    xc = pc[0]; yc = pc[1]\n",
    "    \n",
    "    m = (yb - ya)/(xb - xa)\n",
    "    p = ya - m * xa\n",
    "    \n",
    "    test = yc - (m * xc + p)\n",
    "    \n",
    "    if (test == 0):\n",
    "        return True\n",
    "    else:\n",
    "        return False"
   ]
  },
  {
   "cell_type": "code",
   "execution_count": 7,
   "metadata": {},
   "outputs": [
    {
     "data": {
      "text/plain": [
       "True"
      ]
     },
     "execution_count": 7,
     "metadata": {},
     "output_type": "execute_result"
    }
   ],
   "source": [
    "alignes((0, 0), (1, 1), (-2, -2))"
   ]
  },
  {
   "cell_type": "code",
   "execution_count": 16,
   "metadata": {},
   "outputs": [],
   "source": [
    "def orthogonales(ab, ac):\n",
    "    \n",
    "    xa = ab[0][0]; ya = ab[0][1]\n",
    "    xb = ab[1][0]; yb = ab[1][1]\n",
    "    xc = ac[1][0]; yc = ac[1][1]\n",
    "    \n",
    "    test = (xb - xa) * (xc - xa) + (yb - ya) * (yc - ya)\n",
    "    \n",
    "    if (test == 0):\n",
    "        return True\n",
    "    else:\n",
    "        return False"
   ]
  },
  {
   "cell_type": "code",
   "execution_count": 17,
   "metadata": {},
   "outputs": [
    {
     "data": {
      "text/plain": [
       "True"
      ]
     },
     "execution_count": 17,
     "metadata": {},
     "output_type": "execute_result"
    }
   ],
   "source": [
    "ab = ((0, 0), (-1, -1))\n",
    "ac = ((0, 0), (1, -1))\n",
    "\n",
    "orthogonales(ab, ac)"
   ]
  },
  {
   "cell_type": "code",
   "execution_count": 20,
   "metadata": {},
   "outputs": [
    {
     "name": "stdout",
     "output_type": "stream",
     "text": [
      "Point A\n",
      "Saisissez un entier x : 0\n",
      "Saisissez un entier y : 0\n",
      "Point B\n",
      "Saisissez un entier x : -1\n",
      "Saisissez un entier y : -1\n",
      "Point C\n",
      "Saisissez un entier x : 1\n",
      "Saisissez un entier y : -1\n",
      "Les trois points sont alignés :  faux\n",
      "Les deux droites sont orthogonales :  vrai\n"
     ]
    }
   ],
   "source": [
    "(pa, pb, pc) = lire3points()\n",
    "sont_alignes = alignes(pa, pb, pc)\n",
    "sont_orthogonaux = orthogonales((pa, pb), (pa, pc))\n",
    "print(\"Les trois points sont alignés : \", \"vrai\" if sont_alignes else \"faux\")\n",
    "print(\"Les deux droites sont orthogonales : \", \"vrai\" if sont_orthogonaux else \"faux\")"
   ]
  },
  {
   "cell_type": "markdown",
   "metadata": {},
   "source": [
    "## Exercice 2 - A propos de dates\n",
    "\n",
    "Le programme Python ci-dessous représente des dates sous la forme d’un tuple (Jour, Mois, Annee). \n",
    "\n",
    "Q1. Complétez ce programme pour :\n",
    "   \n",
    "1. Lire une date au clavier (en lisant successivement un Jour, un Mois et une Annee)\n",
    "2. Afficher cette date à l’écran\n",
    "3. Afficher un message indiquant si cette date est \"correcte\" ou non. On considérera qu’une date est correcte si elle remplit les conditions suivantes :\n",
    "- le jour est un entier entre 1 et 28 (ou 29, ou 30, ou 31, selon le mois et l’année considérée) ;\n",
    "- les années bissextiles (qui ont 29 jours en février) sont celles qui sont soit divisibles par 4 mais pas\n",
    "par 100, soit divisibles par 400.  \n",
    "\n",
    "Indications :\n",
    "- pour lire une date au clavier vous pouvez saisir un entier pour le mois (1 pour janvier, 2 pour février, etc.)\n",
    "- pour afficher une date à l’écran vous pouvez utilisez la fonction afficheDate fournie\n",
    "\n",
    "Q2. Complétez maintenant ce programme pour qu’il lise deux dates au clavier, et, si elles sont correctes, les\n",
    "affiche par ordre chronologique."
   ]
  },
  {
   "cell_type": "code",
   "execution_count": 19,
   "metadata": {},
   "outputs": [],
   "source": [
    "mois_annee = {\n",
    "    \"01\": (\"janvier\", 31),\n",
    "    \"02\": (\"février\", 28),\n",
    "    \"03\": (\"mars\", 31),\n",
    "    \"04\": (\"avril\", 30),\n",
    "    \"05\": (\"mai\", 31),\n",
    "    \"06\": (\"juin\", 30),\n",
    "    \n",
    "    \"07\": (\"juillet\", 31),\n",
    "    \"08\": (\"août\", 31),\n",
    "    \"09\": (\"septembre\", 30),\n",
    "    \"10\": (\"octobre\", 31),\n",
    "    \"11\": (\"novembre\", 30),\n",
    "    \"12\": (\"décembre\", 31)\n",
    "}"
   ]
  },
  {
   "cell_type": "code",
   "execution_count": 20,
   "metadata": {},
   "outputs": [],
   "source": [
    "def afficheDate(date, mois_annee):\n",
    "    \n",
    "    jour = date[0]\n",
    "    mois = date[1]\n",
    "    annee = date[2]\n",
    "    \n",
    "    print(jour + \" \" + mois_annee[mois][0] + \" \" + annee)"
   ]
  },
  {
   "cell_type": "code",
   "execution_count": 21,
   "metadata": {},
   "outputs": [
    {
     "name": "stdout",
     "output_type": "stream",
     "text": [
      "28 septembre 2021\n"
     ]
    }
   ],
   "source": [
    "date = (\"28\", \"09\", \"2021\")\n",
    "afficheDate(date, mois_annee)"
   ]
  },
  {
   "cell_type": "code",
   "execution_count": 22,
   "metadata": {},
   "outputs": [],
   "source": [
    "def dateCorrecte(date, mois_annee):\n",
    "    \n",
    "    jour = int(date[0])\n",
    "    mois = int(date[1])\n",
    "    annee = int(date[2])\n",
    "    \n",
    "    if (((annee % 4 == 0) and (annee % 100 != 0)) or (annee % 400 == 0)):\n",
    "        estBissextile = True\n",
    "    else:\n",
    "        estBissextile = False\n",
    "        \n",
    "    if (mois == 2):\n",
    "        if estBissextile:\n",
    "            estCorrecte = (jour > 1) and (jour < 30)\n",
    "        else:\n",
    "            estCorrecte = (jour > 1) and (jour < 29)\n",
    "    else:\n",
    "        estCorrecte = (jour > 1) and (jour < mois_annee[mois][1] + 1)\n",
    "        \n",
    "    return estCorrecte"
   ]
  },
  {
   "cell_type": "code",
   "execution_count": 23,
   "metadata": {},
   "outputs": [
    {
     "data": {
      "text/plain": [
       "True"
      ]
     },
     "execution_count": 23,
     "metadata": {},
     "output_type": "execute_result"
    }
   ],
   "source": [
    "date = (\"29\", \"02\", \"2020\")\n",
    "dateCorrecte(date, mois_annee)"
   ]
  },
  {
   "cell_type": "code",
   "execution_count": 16,
   "metadata": {},
   "outputs": [
    {
     "data": {
      "text/plain": [
       "False"
      ]
     },
     "execution_count": 16,
     "metadata": {},
     "output_type": "execute_result"
    }
   ],
   "source": [
    "date = (\"29\", \"02\", \"2021\")\n",
    "dateCorrecte(date, mois_annee)"
   ]
  },
  {
   "cell_type": "code",
   "execution_count": 28,
   "metadata": {},
   "outputs": [],
   "source": [
    "def lireDate(mois_annee):\n",
    "    \n",
    "    estCorrecte = False\n",
    "    \n",
    "    while (not estCorrecte):\n",
    "    \n",
    "        jour = int(input(\"Saisissez le jour : \"))\n",
    "        mois = int(input(\"Saisissez le mois : \"))\n",
    "        annee = int(input(\"Saisissez l'année : \"))\n",
    "        \n",
    "        date = (jour, mois, annee)\n",
    "        estCorrecte = dateCorrecte(date, mois_annee)\n",
    "        \n",
    "        if estCorrecte:\n",
    "            print(\"Date correcte\")\n",
    "        else:\n",
    "            print(\"Date incorrecte. Recommencez !\")\n",
    "    \n",
    "    return date"
   ]
  },
  {
   "cell_type": "code",
   "execution_count": 29,
   "metadata": {},
   "outputs": [
    {
     "name": "stdout",
     "output_type": "stream",
     "text": [
      "Saisissez le jour : 20\n",
      "Saisissez le mois : 02\n",
      "Saisissez l'année : 2021\n",
      "Date correcte\n"
     ]
    },
    {
     "data": {
      "text/plain": [
       "(20, 2, 2021)"
      ]
     },
     "execution_count": 29,
     "metadata": {},
     "output_type": "execute_result"
    }
   ],
   "source": [
    "lireDate(mois_annee)"
   ]
  },
  {
   "cell_type": "code",
   "execution_count": 2,
   "metadata": {},
   "outputs": [],
   "source": [
    "def gt(date1, date2):\n",
    "    \"\"\"Greater than. Return True iff date1 > date2. Otherwise False.\n",
    "\n",
    "    Keyword arguments:\n",
    "    date1 -- date\n",
    "    date2 -- date\n",
    "    \"\"\"\n",
    "    (jour1, mois1, annee1) = date1\n",
    "    (jour2, mois2, annee2) = date2\n",
    "    \n",
    "    if (int(annee1) > int(annee2)):\n",
    "        return True\n",
    "    elif (int(annee1) < int(annee2)):\n",
    "        return False\n",
    "    else:\n",
    "        # annee1 = annee2\n",
    "        if (int(mois1) > int(mois2)):\n",
    "            return True\n",
    "        elif (int(mois1) < int(mois2)):\n",
    "            return False\n",
    "        else:\n",
    "            # mois1 = mois2\n",
    "            if (int(jour1) > int(jour2)):\n",
    "                return True\n",
    "            else:\n",
    "                return False"
   ]
  },
  {
   "cell_type": "code",
   "execution_count": 3,
   "metadata": {},
   "outputs": [
    {
     "name": "stdout",
     "output_type": "stream",
     "text": [
      "CPU times: user 0 ns, sys: 0 ns, total: 0 ns\n",
      "Wall time: 25 µs\n"
     ]
    },
    {
     "data": {
      "text/plain": [
       "False"
      ]
     },
     "execution_count": 3,
     "metadata": {},
     "output_type": "execute_result"
    }
   ],
   "source": [
    "gt((\"20\", \"03\", \"2020\"), (\"20\", \"03\", \"2020\"))"
   ]
  },
  {
   "cell_type": "code",
   "execution_count": 25,
   "metadata": {},
   "outputs": [
    {
     "data": {
      "text/plain": [
       "True"
      ]
     },
     "execution_count": 25,
     "metadata": {},
     "output_type": "execute_result"
    }
   ],
   "source": [
    "gt((\"20\", \"03\", \"2020\"), (\"20\", \"03\", \"2019\"))"
   ]
  },
  {
   "cell_type": "code",
   "execution_count": 26,
   "metadata": {},
   "outputs": [
    {
     "data": {
      "text/plain": [
       "True"
      ]
     },
     "execution_count": 26,
     "metadata": {},
     "output_type": "execute_result"
    }
   ],
   "source": [
    "gt((\"21\", \"03\", \"2020\"), (\"20\", \"03\", \"2020\"))"
   ]
  },
  {
   "cell_type": "code",
   "execution_count": 27,
   "metadata": {},
   "outputs": [
    {
     "data": {
      "text/plain": [
       "True"
      ]
     },
     "execution_count": 27,
     "metadata": {},
     "output_type": "execute_result"
    }
   ],
   "source": [
    "gt((\"21\", \"03\", \"2020\"), (\"20\", \"02\", \"2020\"))"
   ]
  },
  {
   "cell_type": "code",
   "execution_count": 30,
   "metadata": {},
   "outputs": [
    {
     "name": "stdout",
     "output_type": "stream",
     "text": [
      "Saisissez le jour : 20\n",
      "Saisissez le mois : 02\n",
      "Saisissez l'année : 2021\n",
      "Date correcte\n",
      "Saisissez le jour : 19\n",
      "Saisissez le mois : 02\n",
      "Saisissez l'année : 2021\n",
      "Date correcte\n",
      "(19, 2, 2021)\n",
      "(20, 2, 2021)\n"
     ]
    }
   ],
   "source": [
    "date1 = lireDate(mois_annee)\n",
    "date2 = lireDate(mois_annee)\n",
    "\n",
    "if gt(date1, date2):\n",
    "    print(date2)\n",
    "    print(date1)\n",
    "else:\n",
    "    print(date1)\n",
    "    print(date2)"
   ]
  },
  {
   "cell_type": "code",
   "execution_count": null,
   "metadata": {},
   "outputs": [],
   "source": []
  }
 ],
 "metadata": {
  "kernelspec": {
   "display_name": "Python 3",
   "language": "python",
   "name": "python3"
  },
  "language_info": {
   "codemirror_mode": {
    "name": "ipython",
    "version": 3
   },
   "file_extension": ".py",
   "mimetype": "text/x-python",
   "name": "python",
   "nbconvert_exporter": "python",
   "pygments_lexer": "ipython3",
   "version": "3.8.5"
  },
  "latex_envs": {
   "LaTeX_envs_menu_present": true,
   "autoclose": false,
   "autocomplete": true,
   "bibliofile": "biblio.bib",
   "cite_by": "apalike",
   "current_citInitial": 1,
   "eqLabelWithNumbers": true,
   "eqNumInitial": 1,
   "hotkeys": {
    "equation": "Ctrl-E",
    "itemize": "Ctrl-I"
   },
   "labels_anchors": false,
   "latex_user_defs": false,
   "report_style_numbering": false,
   "user_envs_cfg": false
  }
 },
 "nbformat": 4,
 "nbformat_minor": 5
}
