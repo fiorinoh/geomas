{
 "cells": [
  {
   "cell_type": "markdown",
   "id": "09205fb6",
   "metadata": {},
   "source": [
    "# Graphes : pathfinding avec A*"
   ]
  },
  {
   "cell_type": "markdown",
   "id": "8a47c0aa",
   "metadata": {},
   "source": [
    "L'algorithme $A^*$ (A étoile) permet de trouver **le plus court chemin entre 2 noeuds d'un graphe**. C'est un algorithme classique très utilisé dans de nombreux domaines tels que par exemple les jeux vidéo ou le calcul d'itinéraires. Il en existe d'autres comme Greedy Search ou Dijkstra.\n",
    "\n",
    "Les schémas ci-dessous sont tirés du livre de Peter Norvig, Stuart Russell, \"Intelligence artificielle, une approche moderne\".\n",
    "\n",
    "![Réseau routier](img/romania-distances.pdf)\n",
    "\n",
    "![Distances](img/romania-sld.pdf)\n",
    "\n",
    "Le principe de $A^*$ est le suivant : chaque noeud est caractérisé par ses coordonnées $(x, y)$, un coût pour atteindre ce noeud depuis le noeud initial, et une *valeur heuristique* c'est-à-dire une estimation du coût nécessaire pour atteindre le noeud final. Noter que $A^*$ peut être utilisé chaque fois qu'il est possible de décrire un problème dans ces termes et pas seulement dans le cas de la recherche d'un itinéraire. Mais dans notre exemple, le coût est la distance parcourue depuis le noeud de départ, et la valeur heuristique est la distance \"à vol d'oiseau\" pour atteindre la destination. La distance à vol d'oiseau est une estimation *minorante* de la distance qu'il faudra réellement parcourir. C'est une caractéristique important de l'heuristique pour garantir que le chemin trouvé sera *optimal* c'est-à-dire le plus court.  \n",
    "\n",
    "A partir d'un noeud donné, on regarde quels sont les noeuds immédiatement atteignables dans le graphe et on calcul leur valeur = coût + heuristique. On ajoute tous ces noeuds à une liste de noeuds à explorer, et on se rend sur le noeud ayant la valeur la plus basse. Puis l'on recommence cette procédure jusqu'au noeud final.  \n",
    "\n",
    "Prenons un exemple. On cherche le plus court chemin entre la ville de Arad et Bucarest. Voici l'exploration faite par $A^*$ :\n",
    "\n",
    "![A-étoile](img/astar-progress.pdf)"
   ]
  },
  {
   "cell_type": "markdown",
   "id": "853386b2",
   "metadata": {},
   "source": [
    "Voici l'algorithme $A^*$ (dans le cas où l'heuristique est minorante) en pseudo-code :"
   ]
  },
  {
   "cell_type": "markdown",
   "id": "9b70afae",
   "metadata": {},
   "source": [
    "**Fonction astart(g : Graphe, objectif : Noeud, depart : Noeud):**\n",
    "        \n",
    "        {Liste des noeuds déjà rencontrés}\n",
    "        closedList = []\n",
    "        \n",
    "        {Liste des noeuds à explorer}\n",
    "        openList = []\n",
    "        openList.ajouter(depart)\n",
    "        \n",
    "        tant que openList n'est pas vide:\n",
    "           u = openList.retirer_meilleur_noeud()\n",
    "           closedList.ajouter(u)\n",
    "           si u == objectif:\n",
    "               chemin = reconstituer_chemin(u , depart)\n",
    "               retourner chemin\n",
    "           pour chaque voisin v de u dans g:\n",
    "               v.cout = u.cout + distance(u, v)\n",
    "               v.valeur = v.cout + estimation_distance(v, objectif)\n",
    "               si non(v existe dans closedList):\n",
    "                    openList.ajouter(v)\n",
    "       retourner échec"
   ]
  },
  {
   "cell_type": "markdown",
   "id": "b2f04fe1",
   "metadata": {},
   "source": [
    "## Exercice :\n",
    "- Implémenter $A^*$ en python\n",
    "- Tester $A^*$ avec le graphe de l'exemple   "
   ]
  },
  {
   "cell_type": "code",
   "execution_count": 89,
   "id": "1ae7529d",
   "metadata": {},
   "outputs": [],
   "source": [
    "class Node():\n",
    "    def __init__(self, name, cost = 0, heuristic = 0, parent = None):\n",
    "        self.name = name\n",
    "        self.cost = cost\n",
    "        self.heuristic = heuristic\n",
    "        self.parent = parent\n",
    "        \n",
    "    def __eq__(self, n):\n",
    "        return self.name == n.name\n",
    "    \n",
    "    def __str__(self):\n",
    "        return self.name\n",
    "    \n",
    "    def get_path(self):\n",
    "        if self.parent is None:\n",
    "            return [self.name]\n",
    "        else:\n",
    "            return self.parent.get_path() + [self.name]"
   ]
  },
  {
   "cell_type": "code",
   "execution_count": 90,
   "id": "d6d7b584",
   "metadata": {},
   "outputs": [],
   "source": [
    "heuristic = {\n",
    "    'Arad' : 366,\n",
    "    'Bucharest' : 0, \n",
    "    'Craiova' : 160, \n",
    "    'Dobreta' : 242,\n",
    "    'Eforie' : 161,\n",
    "    'Fagaras' : 176, \n",
    "    'Giurgiu' : 77,\n",
    "    'Hirsova' : 151,\n",
    "    'Iasi' : 226,\n",
    "    'Lugoj' : 244,\n",
    "    'Mehadia' : 241,\n",
    "    'Neamt' : 234,\n",
    "    'Oradea' : 380,\n",
    "    'Pitesti' : 100,\n",
    "    'Rimnicu Vilcea' : 193,\n",
    "    'Sibiu' : 253,\n",
    "    'Timisoara' : 329,\n",
    "    'Urziceni' : 80,\n",
    "    'Vaslui' : 199,\n",
    "    'Zerind' : 374}"
   ]
  },
  {
   "cell_type": "code",
   "execution_count": 91,
   "id": "5f9277b7",
   "metadata": {},
   "outputs": [],
   "source": [
    "graphe = {\n",
    "    'children' : {\n",
    "        'Arad' : ['Zerind', 'Sibiu', 'Timisoara'],\n",
    "        'Bucharest' : ['Pitesti', 'Giurgiu', 'Urziceni', 'Fagaras'], \n",
    "        'Craiova' : ['Dobreta', 'Rimnicu Vilcea', 'Pitesti'], \n",
    "        'Dobreta' : ['Mehadia', 'Craiova'],\n",
    "        'Eforie' : ['Hirsova'],\n",
    "        'Fagaras' : ['Sibiu', 'Bucharest'], \n",
    "        'Giurgiu' : ['Bucharest'],\n",
    "        'Hirsova' : ['Eforie', 'Urziceni'],\n",
    "        'Iasi' : ['Neamt', 'Vaslui'],\n",
    "        'Lugoj' : ['Timisoara', 'Mehadia'],\n",
    "        'Mehadia' : ['Lugoj', 'Dobreta'],\n",
    "        'Neamt' : ['Iasi'],\n",
    "        'Oradea' : ['Zerind', 'Sibiu'],\n",
    "        'Pitesti' : ['Rimnicu Vilcea', 'Craiova', 'Bucharest'],\n",
    "        'Rimnicu Vilcea' : ['Sibiu', 'Craiova', 'Pitesti'],\n",
    "        'Sibiu' : ['Arad', 'Oradea', 'Rimnicu Vilcea', 'Fagaras'],\n",
    "        'Timisoara' : ['Arad', 'Lugoj'],\n",
    "        'Urziceni' : ['Bucharest', 'Urziceni'],\n",
    "        'Vaslui' : ['Urziceni', 'Iasi'],\n",
    "        'Zerind' : ['Arad', 'Oradea']\n",
    "    },\n",
    "    'cost' : {\n",
    "        ('Arad', 'Zerind') : 75,\n",
    "        ('Arad', 'Sibiu') : 140,\n",
    "        ('Arad', 'Timisoara') : 118,\n",
    "        ('Zerind', 'Oradea') : 71,\n",
    "        ('Oradea', 'Sibiu') : 151,\n",
    "        ('Sibiu', 'Fagaras') : 99,\n",
    "        ('Sibiu', 'Rimnicu Vilcea') : 80,\n",
    "        ('Timisoara', 'Lugoj') : 111,\n",
    "        ('Lugoj', 'Mehadia') : 70,\n",
    "        ('Mehadia', 'Dobreta') : 75,\n",
    "        ('Dobreta', 'Craiova') : 120,\n",
    "        ('Craiova', 'Rimnicu Vilcea') : 146,\n",
    "        ('Rimnicu Vilcea', 'Pitesti') : 97,\n",
    "        ('Pitesti', 'Craiova') : 138,\n",
    "        ('Pitesti', 'Bucharest') : 101,\n",
    "        ('Fagaras', 'Bucharest') : 211,\n",
    "        ('Bucharest', 'Giurgiu') : 90,\n",
    "        ('Bucharest', 'Urziceni') : 85,\n",
    "        ('Urziceni', 'Hirsova') : 98,\n",
    "        ('Hirsova', 'Eforie') : 86,\n",
    "        ('Urziceni', 'Vaslui') : 142,\n",
    "        ('Vaslui', 'Iasi') : 92,\n",
    "        ('Iasi', 'Neamt') : 87\n",
    "    }\n",
    "}"
   ]
  },
  {
   "cell_type": "code",
   "execution_count": 92,
   "id": "d912956b",
   "metadata": {},
   "outputs": [],
   "source": [
    "def cost(u, v, graphe):\n",
    "    if (u, v) in graphe['cost']:\n",
    "        return graphe['cost'][(u, v)]\n",
    "    else:\n",
    "        return graphe['cost'][(v, u)]"
   ]
  },
  {
   "cell_type": "code",
   "execution_count": 146,
   "id": "8c0dc501",
   "metadata": {},
   "outputs": [],
   "source": [
    "def astart(graphe, depart, destination):\n",
    "    closeList = []\n",
    "    openList = [depart]\n",
    "    while openList:\n",
    "        best = openList.pop(0)\n",
    "        closeList.append(best)\n",
    "        if best == destination:\n",
    "            return best.get_path()\n",
    "        for voisin in graphe['children'][best.name]:\n",
    "            voisin_cost = best.cost + cost(best.name, voisin, graphe)\n",
    "            voisin_heuristic = heuristic[voisin]\n",
    "            node_voisin = Node(voisin, cost = voisin_cost, heuristic = voisin_heuristic, parent = best)\n",
    "            if (not node_voisin in closeList):\n",
    "                openList.append(node_voisin)\n",
    "                openList.sort(key = lambda x : x.cost + x.heuristic)\n",
    "    return []"
   ]
  },
  {
   "cell_type": "code",
   "execution_count": 147,
   "id": "cc1efb59",
   "metadata": {},
   "outputs": [],
   "source": [
    "depart = Node('Bucharest')\n",
    "destination = Node('Bucharest')"
   ]
  },
  {
   "cell_type": "code",
   "execution_count": 148,
   "id": "bcd5d6c1",
   "metadata": {},
   "outputs": [
    {
     "data": {
      "text/plain": [
       "['Bucharest']"
      ]
     },
     "execution_count": 148,
     "metadata": {},
     "output_type": "execute_result"
    }
   ],
   "source": [
    "astart(graphe, depart, destination)"
   ]
  },
  {
   "cell_type": "code",
   "execution_count": 153,
   "id": "9f288274",
   "metadata": {},
   "outputs": [],
   "source": [
    "depart = Node('Timisoara')"
   ]
  },
  {
   "cell_type": "code",
   "execution_count": 154,
   "id": "4b82fb31",
   "metadata": {},
   "outputs": [
    {
     "data": {
      "text/plain": [
       "['Timisoara', 'Arad', 'Sibiu', 'Rimnicu Vilcea', 'Pitesti', 'Bucharest']"
      ]
     },
     "execution_count": 154,
     "metadata": {},
     "output_type": "execute_result"
    }
   ],
   "source": [
    "astart(graphe, depart, destination)"
   ]
  },
  {
   "cell_type": "code",
   "execution_count": null,
   "id": "5e698ca0",
   "metadata": {},
   "outputs": [],
   "source": []
  }
 ],
 "metadata": {
  "kernelspec": {
   "display_name": "Python 3",
   "language": "python",
   "name": "python3"
  },
  "language_info": {
   "codemirror_mode": {
    "name": "ipython",
    "version": 3
   },
   "file_extension": ".py",
   "mimetype": "text/x-python",
   "name": "python",
   "nbconvert_exporter": "python",
   "pygments_lexer": "ipython3",
   "version": "3.8.8"
  }
 },
 "nbformat": 4,
 "nbformat_minor": 5
}
