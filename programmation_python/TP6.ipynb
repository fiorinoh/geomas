{
 "cells": [
  {
   "cell_type": "markdown",
   "id": "246ff0ea",
   "metadata": {},
   "source": [
    "# Graphes : arbres de recherche binaire"
   ]
  },
  {
   "cell_type": "markdown",
   "id": "09bcdb01",
   "metadata": {},
   "source": [
    "Les graphes sont une notion très importante en informatique. Ils nous seront très utiles pour représenter des réseaux (de transport, de distribution d'énergie etc.) mais aussi pour construire des \"espaces de recherche\"."
   ]
  },
  {
   "cell_type": "markdown",
   "id": "f04539e9",
   "metadata": {},
   "source": [
    "## Qu'est-ce qu'un graphe ?"
   ]
  },
  {
   "cell_type": "markdown",
   "id": "7ce5c820",
   "metadata": {},
   "source": [
    "L'histoire des graphes commence en 1735 dans la ville de Königsberg (qui est aujourd'hui l'enclave russe de Kaliningrad).\n",
    "\n",
    "![Königsberg](img/konigsberg_1910.jpg)\n",
    "\n",
    "Le mathématicien Leonhard Euler se pose la question de savoir s'il existe ou non une promenade dans les rues de Königsberg permettant, à partir d'un point de départ au choix, de passer une et une seule fois par chaque pont (il y en a 7), et de revenir à son point de départ."
   ]
  },
  {
   "cell_type": "markdown",
   "id": "c6446892",
   "metadata": {},
   "source": [
    "La réponse est non mais la modélisation mathématique consiste à représenter le problème des sept ponts de Königsberg par un graphe :\n",
    "\n",
    "![Problème des sept ponts de Königsberg](img/konigsberg.pdf)"
   ]
  },
  {
   "cell_type": "markdown",
   "id": "2b94b365",
   "metadata": {},
   "source": [
    "Un graphe est constitué de *noeuds* (ici A, B, C, D et E) et *d'arêtes* (I, II, III, IV, V, VI et VII). Il est par exemple possible de passer du noeud A au noeud B puis de revenir à A. C'est ce qu'on appele un *cycle*."
   ]
  },
  {
   "cell_type": "markdown",
   "id": "a7b6382f",
   "metadata": {},
   "source": [
    "Un *arbre* est un graphe sans cycle.\n",
    "\n",
    "![Arbre](img/depth7.pdf)"
   ]
  },
  {
   "cell_type": "markdown",
   "id": "75a66006",
   "metadata": {},
   "source": [
    "Comment coder un graphe en python ? On peut utiliser un dictionnaire :"
   ]
  },
  {
   "cell_type": "code",
   "execution_count": 2,
   "id": "e52c6b7c",
   "metadata": {},
   "outputs": [],
   "source": [
    "konigsberg = {\n",
    "    'A' : ['B', 'B', 'D'],\n",
    "    'B' : ['A', 'D', 'C'],\n",
    "    'C' : ['B', 'B', 'D'],\n",
    "    'D' : ['C', 'B', 'A']\n",
    "}"
   ]
  },
  {
   "cell_type": "code",
   "execution_count": 3,
   "id": "c57a5a29",
   "metadata": {},
   "outputs": [
    {
     "data": {
      "text/plain": [
       "{'A': ['B', 'B', 'D'],\n",
       " 'B': ['A', 'D', 'C'],\n",
       " 'C': ['B', 'B', 'D'],\n",
       " 'D': ['C', 'B', 'A']}"
      ]
     },
     "execution_count": 3,
     "metadata": {},
     "output_type": "execute_result"
    }
   ],
   "source": [
    "konigsberg"
   ]
  },
  {
   "cell_type": "markdown",
   "id": "61a88340",
   "metadata": {},
   "source": [
    "On peut bien évidemment utiliser des classes d'objets.\n",
    "\n",
    "## Noeud"
   ]
  },
  {
   "cell_type": "code",
   "execution_count": 118,
   "id": "e7887405",
   "metadata": {},
   "outputs": [],
   "source": [
    "class Node:\n",
    "    \"\"\"Définition d'un noeud\"\"\"\n",
    "    \n",
    "    # Constructeur de noeud\n",
    "    def __init__(self, label = \"\", content = 0):\n",
    "        self.label = label\n",
    "        self.content = content\n",
    "        \n",
    "    # Méthode utilisée par print()\n",
    "    def __str__(self):\n",
    "        t = \"Node(\" + self.label + \", \" + str(self.content) + \")\"\n",
    "        return t"
   ]
  },
  {
   "cell_type": "code",
   "execution_count": 119,
   "id": "0fafba04",
   "metadata": {},
   "outputs": [],
   "source": [
    "a = Node(label = \"A\", content = 6)"
   ]
  },
  {
   "cell_type": "code",
   "execution_count": 120,
   "id": "c0984fc1",
   "metadata": {
    "scrolled": true
   },
   "outputs": [
    {
     "data": {
      "text/plain": [
       "__main__.Node"
      ]
     },
     "execution_count": 120,
     "metadata": {},
     "output_type": "execute_result"
    }
   ],
   "source": [
    "type(a)"
   ]
  },
  {
   "cell_type": "code",
   "execution_count": 121,
   "id": "bc49489e",
   "metadata": {
    "scrolled": true
   },
   "outputs": [
    {
     "name": "stdout",
     "output_type": "stream",
     "text": [
      "Node(A, 6)\n"
     ]
    }
   ],
   "source": [
    "print(a)"
   ]
  },
  {
   "cell_type": "markdown",
   "id": "bff2ad98",
   "metadata": {},
   "source": [
    "## Arbre de recherche binaire\n",
    "\n",
    "Commençons par modéliser un arbre de recherche binaire (sera aussi vu en cours d'algorithmique) :\n",
    "\n",
    "![Arbre de recherche binaire](img/arbre_binaire.png)"
   ]
  },
  {
   "cell_type": "code",
   "execution_count": 176,
   "id": "f0b3f269",
   "metadata": {},
   "outputs": [],
   "source": [
    "class ArbreBin:\n",
    "    \"\"\"Arbre binaire\"\"\"\n",
    "    \n",
    "    # Constructeur d'arbre binaire\n",
    "    def __init__(self, arbre_g, racine, arbre_d):\n",
    "        self.arbre_g = arbre_g\n",
    "        self.racine = racine\n",
    "        self.arbre_d = arbre_d\n",
    "        \n",
    "    def __str__(self):\n",
    "        if (self.arbre_g is None):\n",
    "            t_g = \"None\"\n",
    "        else:\n",
    "            t_g = self.arbre_g.__str__()\n",
    "        if (self.arbre_d is None):\n",
    "            t_d = \"None\"\n",
    "        else:\n",
    "            t_d = self.arbre_d.__str__()\n",
    "        return \"ArbreBin(\" + t_g + \", \" + self.racine.__str__() + \", \" + t_d + \")\""
   ]
  },
  {
   "cell_type": "code",
   "execution_count": 177,
   "id": "e931dfcf",
   "metadata": {},
   "outputs": [],
   "source": [
    "af = ArbreBin(None, Node('F', 8), None)"
   ]
  },
  {
   "cell_type": "code",
   "execution_count": 178,
   "id": "1456d380",
   "metadata": {},
   "outputs": [],
   "source": [
    "ag = ArbreBin(None, Node('G', 11), None)"
   ]
  },
  {
   "cell_type": "code",
   "execution_count": 179,
   "id": "3ec618cb",
   "metadata": {},
   "outputs": [],
   "source": [
    "ad = ArbreBin(af, Node('D', 9), ag)"
   ]
  },
  {
   "cell_type": "code",
   "execution_count": 180,
   "id": "a2139cf1",
   "metadata": {},
   "outputs": [],
   "source": [
    "ae = ArbreBin(None, Node('E', 24), None)\n",
    "ac = ArbreBin(ad, Node('C', 12), ae)\n",
    "ab = ArbreBin(None, Node('B', 4), None)\n",
    "aa = ArbreBin(ab, Node('A', 6), ac)"
   ]
  },
  {
   "cell_type": "code",
   "execution_count": 181,
   "id": "f2f6eeed",
   "metadata": {},
   "outputs": [
    {
     "data": {
      "text/plain": [
       "__main__.ArbreBin"
      ]
     },
     "execution_count": 181,
     "metadata": {},
     "output_type": "execute_result"
    }
   ],
   "source": [
    "type(aa)"
   ]
  },
  {
   "cell_type": "code",
   "execution_count": 182,
   "id": "32c139c6",
   "metadata": {},
   "outputs": [
    {
     "name": "stdout",
     "output_type": "stream",
     "text": [
      "ArbreBin(ArbreBin(None, Node(B, 4), None), Node(A, 6), ArbreBin(ArbreBin(ArbreBin(None, Node(F, 8), None), Node(D, 9), ArbreBin(None, Node(G, 11), None)), Node(C, 12), ArbreBin(None, Node(E, 24), None)))\n"
     ]
    }
   ],
   "source": [
    "print(aa)"
   ]
  },
  {
   "cell_type": "code",
   "execution_count": 202,
   "id": "9cb7d73c",
   "metadata": {},
   "outputs": [],
   "source": [
    "class ArbreBin:\n",
    "    \"\"\"Arbre binaire\"\"\"\n",
    "    \n",
    "    # Constructeur d'arbre binaire\n",
    "    def __init__(self, arbre_g, racine, arbre_d):\n",
    "        self.arbre_g = arbre_g\n",
    "        self.racine = racine\n",
    "        self.arbre_d = arbre_d\n",
    "        \n",
    "    def __str__(self):\n",
    "        if (self.arbre_g is None):\n",
    "            t_g = \"None\"\n",
    "        else:\n",
    "            t_g = self.arbre_g.__str__()\n",
    "        if (self.arbre_d is None):\n",
    "            t_d = \"None\"\n",
    "        else:\n",
    "            t_d = self.arbre_d.__str__()\n",
    "        return \"ArbreBin(\" + t_g + \", \" + self.racine.__str__() + \", \" + t_d + \")\"\n",
    "    \n",
    "    # Ajoute content à l'arbre\n",
    "    def add(self, node):\n",
    "            # Si strictement inférieur, ajout à gauche\n",
    "            if (node.content < self.racine.content):\n",
    "                if self.arbre_g is None:\n",
    "                    left = ArbreBin(None, node, None)\n",
    "                else:\n",
    "                    left = self.arbre_g.add(node)\n",
    "                return ArbreBin(left, self.racine, self.arbre_d)\n",
    "            # Sinon (supérieur ou égal), ajout à droite\n",
    "            else:\n",
    "                if self.arbre_d is None:\n",
    "                    right = ArbreBin(None, node, None)\n",
    "                else:\n",
    "                    right = self.arbre_d.add(node)\n",
    "                return ArbreBin(self.arbre_g, self.racine, right)"
   ]
  },
  {
   "cell_type": "code",
   "execution_count": 206,
   "id": "102748d8",
   "metadata": {},
   "outputs": [],
   "source": [
    "aa = ArbreBin(None, Node('A', 6), None)\n",
    "new_aa = aa.add(Node('B', 7))"
   ]
  },
  {
   "cell_type": "code",
   "execution_count": 207,
   "id": "5a215df8",
   "metadata": {},
   "outputs": [
    {
     "name": "stdout",
     "output_type": "stream",
     "text": [
      "ArbreBin(None, Node(A, 6), ArbreBin(None, Node(B, 7), None))\n"
     ]
    }
   ],
   "source": [
    "print(new_aa)"
   ]
  },
  {
   "cell_type": "code",
   "execution_count": 251,
   "id": "0b120b7a",
   "metadata": {},
   "outputs": [],
   "source": [
    "class ArbreBin:\n",
    "    \"\"\"Arbre binaire\"\"\"\n",
    "    \n",
    "    # Constructeur d'arbre binaire\n",
    "    def __init__(self, arbre_g, racine, arbre_d):\n",
    "        self.arbre_g = arbre_g\n",
    "        self.racine = racine\n",
    "        self.arbre_d = arbre_d\n",
    "        \n",
    "    def __str__(self):\n",
    "        if (self.arbre_g is None):\n",
    "            t_g = \"None\"\n",
    "        else:\n",
    "            t_g = self.arbre_g.__str__()\n",
    "        if (self.arbre_d is None):\n",
    "            t_d = \"None\"\n",
    "        else:\n",
    "            t_d = self.arbre_d.__str__()\n",
    "        return \"ArbreBin(\" + t_g + \", \" + self.racine.__str__() + \", \" + t_d + \")\"\n",
    "    \n",
    "    # Ajoute content à l'arbre\n",
    "    def add(self, node):\n",
    "            # Si strictement inférieur, ajout à gauche\n",
    "            if (node.content < self.racine.content):\n",
    "                if self.arbre_g is None:\n",
    "                    left = ArbreBin(None, node, None)\n",
    "                else:\n",
    "                    left = self.arbre_g.add(node)\n",
    "                return ArbreBin(left, self.racine, self.arbre_d)\n",
    "            # Sinon (supérieur ou égal), ajout à droite\n",
    "            else:\n",
    "                if self.arbre_d is None:\n",
    "                    right = ArbreBin(None, node, None)\n",
    "                else:\n",
    "                    right = self.arbre_d.add(node)\n",
    "                return ArbreBin(self.arbre_g, self.racine, right)\n",
    "        \n",
    "    # Teste si l'arbre contient content    \n",
    "    def contains(self, content):\n",
    "        if (content == self.racine.content):\n",
    "            return True\n",
    "        elif (content < self.racine.content):\n",
    "            return (not (self.arbre_g is None)) and self.arbre_g.contains(content)\n",
    "        else:\n",
    "            return (not (self.arbre_d is None)) and self.arbre_d.contains(content)"
   ]
  },
  {
   "cell_type": "code",
   "execution_count": 252,
   "id": "aa371a36",
   "metadata": {},
   "outputs": [],
   "source": [
    "aa = ArbreBin(None, Node('A', 6), None)\n",
    "new_aa = aa.add(Node('D', 9)).add(Node('E', 24)).add(Node('F', 8)).add(Node('G', 11))"
   ]
  },
  {
   "cell_type": "code",
   "execution_count": 253,
   "id": "31cc1167",
   "metadata": {},
   "outputs": [
    {
     "data": {
      "text/plain": [
       "True"
      ]
     },
     "execution_count": 253,
     "metadata": {},
     "output_type": "execute_result"
    }
   ],
   "source": [
    "new_aa.contains(8)"
   ]
  },
  {
   "cell_type": "code",
   "execution_count": 254,
   "id": "5d086523",
   "metadata": {},
   "outputs": [
    {
     "data": {
      "text/plain": [
       "False"
      ]
     },
     "execution_count": 254,
     "metadata": {},
     "output_type": "execute_result"
    }
   ],
   "source": [
    "new_aa.contains(21)"
   ]
  },
  {
   "cell_type": "markdown",
   "id": "d01b6c1b",
   "metadata": {},
   "source": [
    "## Ok mais à quoi servent les arbres binaires ?"
   ]
  },
  {
   "cell_type": "markdown",
   "id": "7ff8efc5",
   "metadata": {},
   "source": [
    "## Ok mais quel rapport avec la géomatique ?"
   ]
  },
  {
   "cell_type": "code",
   "execution_count": null,
   "id": "b17f89d0",
   "metadata": {},
   "outputs": [],
   "source": []
  }
 ],
 "metadata": {
  "kernelspec": {
   "display_name": "Python 3",
   "language": "python",
   "name": "python3"
  },
  "language_info": {
   "codemirror_mode": {
    "name": "ipython",
    "version": 3
   },
   "file_extension": ".py",
   "mimetype": "text/x-python",
   "name": "python",
   "nbconvert_exporter": "python",
   "pygments_lexer": "ipython3",
   "version": "3.8.8"
  }
 },
 "nbformat": 4,
 "nbformat_minor": 5
}
