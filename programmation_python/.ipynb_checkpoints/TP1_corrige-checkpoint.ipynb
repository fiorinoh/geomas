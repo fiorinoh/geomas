{
 "cells": [
  {
   "cell_type": "markdown",
   "metadata": {},
   "source": [
    "# Premiers pas avec le langage Python\n",
    "\n",
    "Pour commencer, nous utiliserons ce tutoriel : https://rgilliotte.gitbook.io/byte-of-python/"
   ]
  },
  {
   "cell_type": "markdown",
   "metadata": {},
   "source": [
    "## Exercice 1 : Moyenne olympique\n",
    "\n",
    "La moyenne olympique de $n$ nombres est la moyenne des $n-2$ nombres restant après avoir enlevé deux des nombres donnés, l’un ayant la valeur maximum et l’autre la valeur minimum. Décrire une fonction qui étant donnés quatre entiers positifs ou nuls, leur associe leur moyenne olympique. Par exemple, la moyenne olympique des quatre nombres 10, 8, 12, 24 est 11, celle des nombres 12, 12, 12, 12 est 12.  \n",
    "\n",
    "{spécification des fonctions}  \n",
    "mo : fonction (u, v, w, x : entiers $\\geq$ 0) $\\rightarrow$ réel $\\geq$ 0 {moyenne olympique de 4 nombres}  \n",
    "minquatre : fonction (i, j, k, l : entiers $\\geq$ 0) $\\rightarrow$ entier $\\geq$ 0 {minimum de 4 nombres}  \n",
    "maxquatre : fonction (i, j, k, l : entiers $\\geq$ 0) $\\rightarrow$ entier $\\geq$ 0 {maximum de 4 nombres}  \n",
    "maxdeux, mindeux : fonction (a,b : deux entiers $\\geq$ 0) $\\rightarrow$ entier $\\geq$ 0 {maximum et minimum de 2 nombres}"
   ]
  },
  {
   "cell_type": "code",
   "execution_count": 1,
   "metadata": {},
   "outputs": [],
   "source": [
    "def maxdeux(a, b):\n",
    "    return (a + b + abs (a - b))/2"
   ]
  },
  {
   "cell_type": "code",
   "execution_count": 2,
   "metadata": {},
   "outputs": [
    {
     "data": {
      "text/plain": [
       "5.0"
      ]
     },
     "execution_count": 2,
     "metadata": {},
     "output_type": "execute_result"
    }
   ],
   "source": [
    "maxdeux(5, -6)"
   ]
  },
  {
   "cell_type": "code",
   "execution_count": 3,
   "metadata": {},
   "outputs": [
    {
     "data": {
      "text/plain": [
       "-4.0"
      ]
     },
     "execution_count": 3,
     "metadata": {},
     "output_type": "execute_result"
    }
   ],
   "source": [
    "maxdeux(-4, -12)"
   ]
  },
  {
   "cell_type": "code",
   "execution_count": 4,
   "metadata": {},
   "outputs": [],
   "source": [
    "def mindeux(a, b):\n",
    "    return (a + b - abs (a - b))/2"
   ]
  },
  {
   "cell_type": "code",
   "execution_count": 5,
   "metadata": {},
   "outputs": [
    {
     "data": {
      "text/plain": [
       "-5.0"
      ]
     },
     "execution_count": 5,
     "metadata": {},
     "output_type": "execute_result"
    }
   ],
   "source": [
    "mindeux(-5, 7)"
   ]
  },
  {
   "cell_type": "code",
   "execution_count": 7,
   "metadata": {},
   "outputs": [],
   "source": [
    "def maxquatre(i,j,k,l):\n",
    "    return maxdeux (maxdeux (maxdeux(i,j), k), l)"
   ]
  },
  {
   "cell_type": "code",
   "execution_count": 8,
   "metadata": {},
   "outputs": [
    {
     "data": {
      "text/plain": [
       "4.0"
      ]
     },
     "execution_count": 8,
     "metadata": {},
     "output_type": "execute_result"
    }
   ],
   "source": [
    "maxquatre(2, 4, -1, 0.5)"
   ]
  },
  {
   "cell_type": "code",
   "execution_count": 9,
   "metadata": {},
   "outputs": [],
   "source": [
    "def minquatre(i, j, k, l):\n",
    "    return mindeux (mindeux (mindeux(i,j), k), l)\n",
    "\n",
    "def mo(u, v, w, x):\n",
    "    return (u+v+w+x - minquatre(u,v,w,x) - maxquatre(u,v,w,x)) / 2"
   ]
  },
  {
   "cell_type": "code",
   "execution_count": 10,
   "metadata": {},
   "outputs": [
    {
     "data": {
      "text/plain": [
       "11.0"
      ]
     },
     "execution_count": 10,
     "metadata": {},
     "output_type": "execute_result"
    }
   ],
   "source": [
    "mo(10, 8, 12, 24 )"
   ]
  },
  {
   "cell_type": "markdown",
   "metadata": {},
   "source": [
    "## Exercice 2 : Maximum de trois entiers"
   ]
  },
  {
   "cell_type": "markdown",
   "metadata": {},
   "source": [
    "Décrire une fonction qui détermine le maximum de trois entiers distincts deux à deux. Il n'y a pas de \"selon\" en Python.  \n",
    "\n",
    "Maxtrois : fonction (a, b, c : entiers) $\\rightarrow$ entier {maximum de 3 nombres distincts deux à deux}"
   ]
  },
  {
   "cell_type": "code",
   "execution_count": 14,
   "metadata": {},
   "outputs": [],
   "source": [
    "def maxtrois(a, b, c):\n",
    "    if (a > b):\n",
    "        if (a > c):\n",
    "            return a\n",
    "        else:\n",
    "            # {a < c}\n",
    "            return c \n",
    "    # {a < b}\n",
    "    else: \n",
    "        if (b > c): \n",
    "            return b \n",
    "        #{b < c}\n",
    "        else:\n",
    "            return c"
   ]
  },
  {
   "cell_type": "code",
   "execution_count": 46,
   "metadata": {},
   "outputs": [
    {
     "data": {
      "text/plain": [
       "45"
      ]
     },
     "execution_count": 46,
     "metadata": {},
     "output_type": "execute_result"
    }
   ],
   "source": [
    "maxtrois(1, 45, -6)"
   ]
  },
  {
   "cell_type": "code",
   "execution_count": 18,
   "metadata": {},
   "outputs": [],
   "source": [
    "def maxthree(a, b, c):\n",
    "    return maxdeux(maxdeux(a, b), c)"
   ]
  },
  {
   "cell_type": "code",
   "execution_count": 19,
   "metadata": {},
   "outputs": [
    {
     "data": {
      "text/plain": [
       "6"
      ]
     },
     "execution_count": 19,
     "metadata": {},
     "output_type": "execute_result"
    }
   ],
   "source": [
    "maxtrois(3, 5, 6)"
   ]
  },
  {
   "cell_type": "markdown",
   "metadata": {},
   "source": [
    "## Exercice 3 : Somme des chiffres d’un nombre"
   ]
  },
  {
   "cell_type": "markdown",
   "metadata": {},
   "source": [
    "Décrire une fonction qui à un entier compris entre 0 et 9999 associe la somme des chiffres qui le composent dans sa représentation en base 10. Exemple : donnée 9639, résultat : 27."
   ]
  },
  {
   "cell_type": "markdown",
   "metadata": {},
   "source": [
    "Les chiffres formant l’entier donné peuvent être déterminés à l’aide de divisions par 10. On introduit une fonction qui à deux nombres associe le quotient et le reste de leur division :"
   ]
  },
  {
   "cell_type": "code",
   "execution_count": 6,
   "metadata": {},
   "outputs": [],
   "source": [
    "def QR(n, d):\n",
    "    return (n // d, n % d)"
   ]
  },
  {
   "cell_type": "code",
   "execution_count": 7,
   "metadata": {},
   "outputs": [],
   "source": [
    "def SC(x):\n",
    "    (q1, c0) = QR (x, 10)\n",
    "    (q2, c1) = QR (q1, 10)\n",
    "    (c3, c2) = QR (q2, 10)\n",
    "    return c0 + c1 + c2 + c3"
   ]
  },
  {
   "cell_type": "code",
   "execution_count": 9,
   "metadata": {},
   "outputs": [
    {
     "data": {
      "text/plain": [
       "27"
      ]
     },
     "execution_count": 9,
     "metadata": {},
     "output_type": "execute_result"
    }
   ],
   "source": [
    "SC(9639)"
   ]
  },
  {
   "cell_type": "markdown",
   "metadata": {},
   "source": [
    "## Exercice 4 : signe du produit"
   ]
  },
  {
   "cell_type": "markdown",
   "metadata": {},
   "source": [
    "On donne ci-dessous un algorithme qui lit au clavier deux entiers $x$ et $y$ et qui affiche à l'écran un message indiquant le signe du produit $x \\times y$ sans calculer ce produit."
   ]
  },
  {
   "cell_type": "markdown",
   "metadata": {},
   "source": [
    "**Signe du produit :**  \n",
    "x, y : entiers  \n",
    "    \n",
    "lire(x) ; lire(y)  \n",
    "si (((x > 0) et (y > 0)) ou ((x < 0) et (y < 0)))  \n",
    "&nbsp;&nbsp;&nbsp;&nbsp;alors ecrire (”le produit de” & LeTexteE(x) & ”et” & LeTexteE(y) & ”est strictement positif”) sinon si ((x = 0) ou (y  = 0))  \n",
    "&nbsp;&nbsp;&nbsp;&nbsp;alors ecrire (”le produit de” & LeTexteE(x) & ”et” & LeTexteE(y) & ”est nul”)  \n",
    "&nbsp;&nbsp;&nbsp;&nbsp;sinon ecrire (”le produit de” & LeTexteE(x) & ”et” & LeTexteE(y) & ”est strictement négatif”)"
   ]
  },
  {
   "cell_type": "code",
   "execution_count": 40,
   "metadata": {},
   "outputs": [],
   "source": [
    "def sdp():\n",
    "    x = int(input('Saisissez un entier x : '))\n",
    "    y = int(input('Saisissez un entier y : '))\n",
    "    \n",
    "    if (((x > 0) and (y > 0)) or ((x < 0) and (y < 0))):\n",
    "        print(\"le produit de \" + str(x) + \" et \" + str(y) + \" est strictement positif\")\n",
    "    elif ((x == 0) or (y == 0)):\n",
    "        print(\"le produit de \" + str(x) + \" et \" + str(y) + \" est strictement nul\")\n",
    "    else:\n",
    "        print(\"le produit de \" + str(x) + \" et \" + str(y) + \" est strictement négatif\")  "
   ]
  },
  {
   "cell_type": "code",
   "execution_count": 41,
   "metadata": {},
   "outputs": [
    {
     "name": "stdout",
     "output_type": "stream",
     "text": [
      "Saisissez un entier x : 6\n",
      "Saisissez un entier y : 0\n",
      "le produit de 6 et 0 est strictement nul\n"
     ]
    }
   ],
   "source": [
    "sdp()"
   ]
  },
  {
   "cell_type": "markdown",
   "metadata": {},
   "source": [
    "## Exercice 5 - classement de trois valeurs"
   ]
  },
  {
   "cell_type": "markdown",
   "metadata": {},
   "source": [
    "On souhaite écrire un programme qui lit trois entiers au clavier et les affiche à l'écran en ordre croissant (du plus petit au plus grand)."
   ]
  },
  {
   "cell_type": "code",
   "execution_count": 68,
   "metadata": {},
   "outputs": [],
   "source": [
    "def classer3V():\n",
    "    a = int(input('Saisissez un entier a : '))\n",
    "    b = int(input('Saisissez un entier b : '))\n",
    "    c = int(input('Saisissez un entier c : '))\n",
    "    \n",
    "    x = maxtrois(a, b, c)\n",
    "    # a est le plus grand\n",
    "    if (x == a):\n",
    "        y = maxdeux(b, c)\n",
    "        if (y == b):\n",
    "            print(str(a) + \" > \" + str(b) + \" > \" + str(c))\n",
    "        else:\n",
    "            print(str(a) + \" > \" + str(c) + \" > \" + str(b))\n",
    "    # b est le plus grand\n",
    "    elif (x == b):\n",
    "        y = maxdeux(a, c)\n",
    "        if (y == a):\n",
    "            print(str(b) + \" > \" + str(a) + \" > \" + str(c))\n",
    "        else:\n",
    "            print(str(b) + \" > \" + str(c) + \" > \" + str(a))\n",
    "    # c est le plus grand\n",
    "    else:\n",
    "        y = maxdeux(a, b)\n",
    "        if (y == a):\n",
    "            print(str(c) + \" > \" + str(a) + \" > \" + str(b))\n",
    "        else:\n",
    "            print(str(c) + \" > \" + str(b) + \" > \" + str(a))"
   ]
  },
  {
   "cell_type": "code",
   "execution_count": 69,
   "metadata": {},
   "outputs": [
    {
     "name": "stdout",
     "output_type": "stream",
     "text": [
      "Saisissez un entier a : 1\n",
      "Saisissez un entier b : 45\n",
      "Saisissez un entier c : -6\n",
      "45 > 1 > -6\n"
     ]
    }
   ],
   "source": [
    "classer3V()"
   ]
  },
  {
   "cell_type": "markdown",
   "metadata": {},
   "source": [
    "## Exercice 6 - Puissance"
   ]
  },
  {
   "cell_type": "markdown",
   "metadata": {},
   "source": [
    "On donne ci-dessous un algorithme qui lit au clavier deux entiers (positifs) x et y et affiche la valeur de $x^y$ :"
   ]
  },
  {
   "cell_type": "markdown",
   "metadata": {},
   "source": [
    "**Puissance :**  \n",
    "x, y : entiers  \n",
    "p : un entier $\\geq$ 0 {valeur courante de $x^y$}  \n",
    "\n",
    "lire(x) ; lire(y)  \n",
    "p $\\leftarrow$ 1  \n",
    "i parcourant [1..y]  \n",
    "&nbsp;&nbsp;&nbsp;&nbsp;p $\\leftarrow$ p * x  \n",
    "ecrire(p)"
   ]
  },
  {
   "cell_type": "code",
   "execution_count": 15,
   "metadata": {},
   "outputs": [],
   "source": [
    "def puissance():\n",
    "    x = int(input('Saisissez un entier x : '))\n",
    "    y = int(input('Saisissez un entier y : '))\n",
    "    p = 1\n",
    "    for i in range(0, y):\n",
    "        p = p * x\n",
    "    print(str(x) + \" puissance \" + str(y) + \" = \" + str(p))"
   ]
  },
  {
   "cell_type": "code",
   "execution_count": 16,
   "metadata": {},
   "outputs": [
    {
     "name": "stdout",
     "output_type": "stream",
     "text": [
      "Saisissez un entier x : 2\n",
      "Saisissez un entier y : 3\n",
      "2 puissance 3 = 8\n"
     ]
    }
   ],
   "source": [
    "puissance()"
   ]
  },
  {
   "cell_type": "markdown",
   "metadata": {},
   "source": [
    "## Exercice 7 - Factorielle"
   ]
  },
  {
   "cell_type": "markdown",
   "metadata": {},
   "source": [
    "Ecrivez dans un fichier factorielle.py un programme pynthon qui lit un entier positif x au clavier et affiche la valeur de $!x$."
   ]
  },
  {
   "cell_type": "code",
   "execution_count": 1,
   "metadata": {},
   "outputs": [],
   "source": [
    "def factorielle(x):\n",
    "    fac = 1\n",
    "    if (x >= 0):\n",
    "        for i in range(2, x + 1):\n",
    "            fac = fac * i\n",
    "        print(\"!x = \" + str(fac))\n",
    "    else:\n",
    "        print(\"Calcul impossible\")"
   ]
  },
  {
   "cell_type": "code",
   "execution_count": 2,
   "metadata": {},
   "outputs": [
    {
     "name": "stdout",
     "output_type": "stream",
     "text": [
      "Saisissez un entier x : 6\n",
      "!x = 720\n"
     ]
    }
   ],
   "source": [
    "x = int(input('Saisissez un entier x : '))\n",
    "factorielle(x)"
   ]
  },
  {
   "cell_type": "markdown",
   "metadata": {},
   "source": [
    "Une autre possibilité est d'utiliser des *appels récursifs* :"
   ]
  },
  {
   "cell_type": "code",
   "execution_count": 2,
   "metadata": {},
   "outputs": [],
   "source": [
    "def factorielle_rec(x):\n",
    "    if (x == 0):\n",
    "        return 1\n",
    "    else:\n",
    "        return x * factorielle_rec(x - 1)"
   ]
  },
  {
   "cell_type": "code",
   "execution_count": 3,
   "metadata": {},
   "outputs": [
    {
     "name": "stdout",
     "output_type": "stream",
     "text": [
      "Saisissez un entier x : 6\n"
     ]
    },
    {
     "data": {
      "text/plain": [
       "720"
      ]
     },
     "execution_count": 3,
     "metadata": {},
     "output_type": "execute_result"
    }
   ],
   "source": [
    "x = int(input('Saisissez un entier x : '))\n",
    "factorielle_rec(x)"
   ]
  },
  {
   "cell_type": "code",
   "execution_count": null,
   "metadata": {},
   "outputs": [],
   "source": []
  }
 ],
 "metadata": {
  "kernelspec": {
   "display_name": "Python 3",
   "language": "python",
   "name": "python3"
  },
  "language_info": {
   "codemirror_mode": {
    "name": "ipython",
    "version": 3
   },
   "file_extension": ".py",
   "mimetype": "text/x-python",
   "name": "python",
   "nbconvert_exporter": "python",
   "pygments_lexer": "ipython3",
   "version": "3.8.5"
  },
  "latex_envs": {
   "LaTeX_envs_menu_present": true,
   "autoclose": false,
   "autocomplete": true,
   "bibliofile": "biblio.bib",
   "cite_by": "apalike",
   "current_citInitial": 1,
   "eqLabelWithNumbers": true,
   "eqNumInitial": 1,
   "hotkeys": {
    "equation": "Ctrl-E",
    "itemize": "Ctrl-I"
   },
   "labels_anchors": false,
   "latex_user_defs": false,
   "report_style_numbering": false,
   "user_envs_cfg": false
  }
 },
 "nbformat": 4,
 "nbformat_minor": 5
}
