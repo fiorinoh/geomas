{
 "cells": [
  {
   "cell_type": "markdown",
   "metadata": {},
   "source": [
    "# Structures de données : les tuples"
   ]
  },
  {
   "cell_type": "markdown",
   "metadata": {},
   "source": [
    "## Exercice 1 - Alignement de points\n",
    "\n",
    "Dans cet exercice, nous allons utiliser la notion de tuple. Ainsi, un point dans le plan sera un couple avec une abscisse et une ordonnée.  \n",
    "\n",
    "Q1. Ecrire un programme python qui :\n",
    "1. lit les coordonnées de 3 points A, B et C, notés $(x_A, y_A)$, $(x_B, y_B)$ et $(x_C, y_C)$\n",
    "2. affecte une variable booléenne *sont_alignes* qui vaut vrai ssi ces 3 points sont alignés\n",
    "3. affecte une variable booléenne *sont_orthogonaux* qui vaut vrai ssi les droites $(AB)$ et $(AC)$ sont orthogonales\n",
    "4. affiche la valeur de ces deux variables booléennes.\n",
    "\n",
    "Indications :  \n",
    "- A, B et C sont alignés ssi C appartient à la droite $(AB)$, c’est-à-dire ssi $(x_C, y_C)$ vérifie l’équation : \\[y=m.x+p\\ \\mbox{avec}\\ m = \\frac{(y_B - y_A)}{(x_B - x_A)}\\ \\mbox{et}\\ p = y_A - m.x_A\\]\n",
    "- $(AB)$ et $(AC)$ orthogonales ssi $\\overrightarrow{AB}.\\overrightarrow{AC} = 0$, c’est-à-dire ssi :\n",
    "\\[(x_B − x_A).(x_C − x_A)+(y_B − y_A).(y_C − y_A)=0\\]"
   ]
  },
  {
   "cell_type": "markdown",
   "metadata": {},
   "source": [
    "## Exercice 2 - A propos de dates\n",
    "\n",
    "Le programme Python ci-dessous représente des dates sous la forme d’un tuple (Jour, Mois, Annee). \n",
    "\n",
    "Q1. Complétez ce programme pour :\n",
    "   \n",
    "1. Lire une date au clavier (en lisant successivement un Jour, un Mois et une Annee)\n",
    "2. Afficher cette date à l’écran\n",
    "3. Afficher un message indiquant si cette date est \"correcte\" ou non. On considérera qu’une date est correcte si elle remplit les conditions suivantes :\n",
    "- le jour est un entier entre 1 et 28 (ou 29, ou 30, ou 31, selon le mois et l’année considérée) ;\n",
    "- les années bissextiles (qui ont 29 jours en février) sont celles qui sont soit divisibles par 4 mais pas\n",
    "par 100, soit divisibles par 400.  \n",
    "\n",
    "Indications :\n",
    "- pour lire une date au clavier vous pouvez saisir un entier pour le mois (1 pour janvier, 2 pour février, etc.)\n",
    "- pour afficher une date à l’écran vous pouvez utilisez la fonction afficheDate fournie\n",
    "\n",
    "Q2. Complétez maintenant ce programme pour qu’il lise deux dates au clavier, et, si elles sont correctes, les\n",
    "affiche par ordre chronologique."
   ]
  }
 ],
 "metadata": {
  "kernelspec": {
   "display_name": "Python 3",
   "language": "python",
   "name": "python3"
  },
  "language_info": {
   "codemirror_mode": {
    "name": "ipython",
    "version": 3
   },
   "file_extension": ".py",
   "mimetype": "text/x-python",
   "name": "python",
   "nbconvert_exporter": "python",
   "pygments_lexer": "ipython3",
   "version": "3.8.5"
  },
  "latex_envs": {
   "LaTeX_envs_menu_present": true,
   "autoclose": false,
   "autocomplete": true,
   "bibliofile": "biblio.bib",
   "cite_by": "apalike",
   "current_citInitial": 1,
   "eqLabelWithNumbers": true,
   "eqNumInitial": 1,
   "hotkeys": {
    "equation": "Ctrl-E",
    "itemize": "Ctrl-I"
   },
   "labels_anchors": false,
   "latex_user_defs": false,
   "report_style_numbering": false,
   "user_envs_cfg": false
  }
 },
 "nbformat": 4,
 "nbformat_minor": 5
}
