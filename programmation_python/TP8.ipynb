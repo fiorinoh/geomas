{
 "cells": [
  {
   "cell_type": "markdown",
   "metadata": {},
   "source": [
    "# Webscraping avec python\n",
    "\n",
    "Après 2 mois de python, nous sommes maintenant prêts à hacker les serveurs de la CIA :)  \n",
    "\n",
    "Le webscraping est une technique permettant l’extraction des données d’un site via un programme. Il permet ainsi de pouvoir réutiliser ces données. Attention, le webscraping est encadré par les Conditions d'Utilisation des sites web.\n",
    "\n",
    "## Le langage HTML\n",
    "\n",
    "LE but n'est pas ici de faire un cours complet sur HTML mais d'introduire des bases suffisantes pour faire du webscraping.  \n",
    "\n",
    "HyperText Markup Language (HTML) est le code utilisé pour structurer une page web et son contenu. Par exemple, le contenu de votre page pourra être structuré en un ensemble de paragraphes, une liste à puces ou avec des images et des tableaux de données.  \n",
    "\n",
    "HTML n'est pas un langage de programmation. C'est un langage de **balises** qui définit la structure de votre contenu. HTML se compose d'une série d'éléments, utilisés pour entourer, ou envelopper, les diverses parties du contenu pour les faire apparaître ou agir d'une certaine façon. Les balises entourantes peuvent être rendues par un mot ou une image lien hypertexte vers quelque chose d'autre, un texte en italique, une police plus grande ou plus petite, et ainsi de suite."
   ]
  },
  {
   "cell_type": "markdown",
   "metadata": {},
   "source": [
    "Copiez le code ci-dessous dans un fichier index.html"
   ]
  },
  {
   "cell_type": "markdown",
   "metadata": {},
   "source": [
    "```html\n",
    "<!DOCTYPE html>\n",
    "<html>\n",
    "  <head>\n",
    "    <meta charset=\"utf-8\">\n",
    "    <title>Ma page de test</title>\n",
    "  </head>\n",
    "  <body>\n",
    "    \n",
    "  </body>\n",
    "</html>\n",
    "```"
   ]
  },
  {
   "cell_type": "markdown",
   "metadata": {},
   "source": [
    "Voici quelques balises utilisables entre les balises ```<body>``` et ```</body>```.\n",
    "\n",
    "### Les titres\n",
    "```html\n",
    "<h1>Mon titre principal</h1>\n",
    "<h2>Mon titre de section</h2>\n",
    "<h3>Mon sous-titre</h3>\n",
    "<h4>Mon sous-sous-titre</h4>\n",
    "```\n",
    "\n",
    "### Les paragraphes\n",
    "```html\n",
    "<p>Voici un paragraphe</p>\n",
    "```\n",
    "\n",
    "### Les listes\n",
    "```html\n",
    "<ul>\n",
    "  <li>GEOMAS</li>\n",
    "  <li>GEOIDES</li>\n",
    "  <li>GEOPOESICE</li>\n",
    "</ul>\n",
    "```\n",
    "\n",
    "### Les images\n",
    "```html\n",
    "<img src=\"img/konigsberg_1910.jpg\" alt=\"Mon image de test\">\n",
    "```\n",
    "\n",
    "### Les liens\n",
    "```html\n",
    "<a href=\"https://iuga.univ-grenoble-alpes.fr/\">IUGA</a>\n",
    "```\n",
    "\n",
    "### Les tableaux\n",
    "```html\n",
    "<table>\n",
    "  <tr>\n",
    "    <td>Formation</td>\n",
    "    <td>Effectifs</td>\n",
    "  </tr>\n",
    "  <tr>\n",
    "    <td>GEOMAS</td>\n",
    "    <td>11</td>\n",
    "  </tr>\n",
    "  <tr>\n",
    "    <td>GEOIDES</td>\n",
    "    <td>25</td>\n",
    "  </tr>\n",
    "  <tr>\n",
    "    <td>GEOPOESICE</td>\n",
    "    <td>25</td>\n",
    "  </tr>\n",
    "</table>\n",
    "```"
   ]
  },
  {
   "cell_type": "markdown",
   "metadata": {},
   "source": [
    "## Webscraping avec BeautifulSoup\n",
    "\n",
    "La documentation se trouve [ici](https://beautiful-soup-4.readthedocs.io/en/latest/#)."
   ]
  },
  {
   "cell_type": "code",
   "execution_count": 9,
   "metadata": {},
   "outputs": [
    {
     "name": "stdout",
     "output_type": "stream",
     "text": [
      "Requirement already satisfied: BeautifulSoup4 in /Users/humbert/anaconda3/lib/python3.8/site-packages (4.9.3)\r\n",
      "Requirement already satisfied: soupsieve>1.2 in /Users/humbert/anaconda3/lib/python3.8/site-packages (from BeautifulSoup4) (2.2.1)\r\n"
     ]
    }
   ],
   "source": [
    "!pip install --user BeautifulSoup4"
   ]
  },
  {
   "cell_type": "code",
   "execution_count": 18,
   "metadata": {},
   "outputs": [],
   "source": [
    "# import libraries\n",
    "from bs4 import BeautifulSoup\n",
    "import urllib.request\n",
    "import csv\n",
    "import pandas"
   ]
  },
  {
   "cell_type": "code",
   "execution_count": 11,
   "metadata": {},
   "outputs": [],
   "source": [
    "# specify the url\n",
    "urlpage = 'https://www.cia.gov/the-world-factbook/field/area/country-comparison'"
   ]
  },
  {
   "cell_type": "code",
   "execution_count": 12,
   "metadata": {},
   "outputs": [],
   "source": [
    "# query the website and return the html to the variable 'page'\n",
    "page = urllib.request.urlopen(urlpage)\n",
    "# parse the html using beautiful soup and store in variable 'soup'\n",
    "soup = BeautifulSoup(page, 'html.parser')"
   ]
  },
  {
   "cell_type": "code",
   "execution_count": 13,
   "metadata": {},
   "outputs": [
    {
     "name": "stdout",
     "output_type": "stream",
     "text": [
      "Number of results 257\n"
     ]
    }
   ],
   "source": [
    "# find results within table\n",
    "table = soup.find('table', attrs={'class': 'content-table table-auto'})\n",
    "results = table.find_all('tr')\n",
    "print('Number of results', len(results))"
   ]
  },
  {
   "cell_type": "code",
   "execution_count": 14,
   "metadata": {},
   "outputs": [],
   "source": [
    "# create and write headers to a list\n",
    "rows = [] \n",
    "rows.append(['rank', 'country', 'sq_km', 'date_of_information'])"
   ]
  },
  {
   "cell_type": "code",
   "execution_count": 15,
   "metadata": {},
   "outputs": [],
   "source": [
    "for result in results :\n",
    "    data = result.find_all('td')\n",
    "    if len(data) > 0 :\n",
    "        rank = data[0].getText()\n",
    "        country = data[1].getText()\n",
    "        sqkm = data[2].getText().replace(',','') #  remove the decimal separator\n",
    "        doi = data[3].getText()\n",
    "        rows.append([rank, country, sqkm, doi])"
   ]
  },
  {
   "cell_type": "code",
   "execution_count": 24,
   "metadata": {},
   "outputs": [],
   "source": [
    "# Create csv and write rows to output file\n",
    "with open('area.csv','w', newline='') as f_output:\n",
    "    csv_output = csv.writer(f_output)\n",
    "    csv_output.writerows(rows)"
   ]
  },
  {
   "cell_type": "code",
   "execution_count": 26,
   "metadata": {},
   "outputs": [
    {
     "data": {
      "text/html": [
       "<div>\n",
       "<style scoped>\n",
       "    .dataframe tbody tr th:only-of-type {\n",
       "        vertical-align: middle;\n",
       "    }\n",
       "\n",
       "    .dataframe tbody tr th {\n",
       "        vertical-align: top;\n",
       "    }\n",
       "\n",
       "    .dataframe thead th {\n",
       "        text-align: right;\n",
       "    }\n",
       "</style>\n",
       "<table border=\"1\" class=\"dataframe\">\n",
       "  <thead>\n",
       "    <tr style=\"text-align: right;\">\n",
       "      <th></th>\n",
       "      <th>rank</th>\n",
       "      <th>country</th>\n",
       "      <th>sq_km</th>\n",
       "      <th>date_of_information</th>\n",
       "    </tr>\n",
       "  </thead>\n",
       "  <tbody>\n",
       "    <tr>\n",
       "      <th>0</th>\n",
       "      <td>1</td>\n",
       "      <td>Russia</td>\n",
       "      <td>17098242</td>\n",
       "      <td>NaN</td>\n",
       "    </tr>\n",
       "    <tr>\n",
       "      <th>1</th>\n",
       "      <td>2</td>\n",
       "      <td>Antarctica</td>\n",
       "      <td>14200000</td>\n",
       "      <td>NaN</td>\n",
       "    </tr>\n",
       "    <tr>\n",
       "      <th>2</th>\n",
       "      <td>3</td>\n",
       "      <td>Canada</td>\n",
       "      <td>9984670</td>\n",
       "      <td>NaN</td>\n",
       "    </tr>\n",
       "    <tr>\n",
       "      <th>3</th>\n",
       "      <td>4</td>\n",
       "      <td>United States</td>\n",
       "      <td>9833517</td>\n",
       "      <td>NaN</td>\n",
       "    </tr>\n",
       "    <tr>\n",
       "      <th>4</th>\n",
       "      <td>5</td>\n",
       "      <td>China</td>\n",
       "      <td>9596960</td>\n",
       "      <td>NaN</td>\n",
       "    </tr>\n",
       "  </tbody>\n",
       "</table>\n",
       "</div>"
      ],
      "text/plain": [
       "   rank        country     sq_km  date_of_information\n",
       "0     1         Russia  17098242                  NaN\n",
       "1     2     Antarctica  14200000                  NaN\n",
       "2     3         Canada   9984670                  NaN\n",
       "3     4  United States   9833517                  NaN\n",
       "4     5          China   9596960                  NaN"
      ]
     },
     "execution_count": 26,
     "metadata": {},
     "output_type": "execute_result"
    }
   ],
   "source": [
    "# Lecture d'un fichier csv\n",
    "df = pandas.read_csv(\"./area.csv\")\n",
    "df.head()"
   ]
  },
  {
   "cell_type": "code",
   "execution_count": null,
   "metadata": {},
   "outputs": [],
   "source": []
  }
 ],
 "metadata": {
  "kernelspec": {
   "display_name": "Python 3",
   "language": "python",
   "name": "python3"
  },
  "language_info": {
   "codemirror_mode": {
    "name": "ipython",
    "version": 3
   },
   "file_extension": ".py",
   "mimetype": "text/x-python",
   "name": "python",
   "nbconvert_exporter": "python",
   "pygments_lexer": "ipython3",
   "version": "3.8.8"
  },
  "latex_envs": {
   "LaTeX_envs_menu_present": true,
   "autoclose": false,
   "autocomplete": true,
   "bibliofile": "biblio.bib",
   "cite_by": "apalike",
   "current_citInitial": 1,
   "eqLabelWithNumbers": true,
   "eqNumInitial": 1,
   "hotkeys": {
    "equation": "Ctrl-E",
    "itemize": "Ctrl-I"
   },
   "labels_anchors": false,
   "latex_user_defs": false,
   "report_style_numbering": false,
   "user_envs_cfg": false
  }
 },
 "nbformat": 4,
 "nbformat_minor": 4
}
