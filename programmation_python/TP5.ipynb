{
 "cells": [
  {
   "cell_type": "markdown",
   "metadata": {},
   "source": [
    "# Programmation Orientée Objet"
   ]
  },
  {
   "cell_type": "markdown",
   "metadata": {},
   "source": [
    "Il est important de bien comprendre la Programmation Orientée Objet (POO) car en python \"tout est objet\". \n",
    "\n",
    "On peut définir les **objets** (on dit aussi **instances**) comme les éléments d'un \"super dictionnaire\" qu'on appelle **classe d'objets**.  \n",
    "\n",
    "Pour rendre cela plus concret, voyons un exemple. Reprenons la liste des équipements de Grenoble :"
   ]
  },
  {
   "cell_type": "code",
   "execution_count": 118,
   "metadata": {},
   "outputs": [],
   "source": [
    "mdj = {\n",
    "    \"id_equip\" : 1907,\n",
    "    \"nom\" : \"Maison des Jeux\",\n",
    "    \"adresse\" : \"48 Quai de France\",\n",
    "    \"domaine\" : \"Sports et Loisirs\",\n",
    "    \"sous_domaine\" : \"Equipements socioculturels\"}"
   ]
  },
  {
   "cell_type": "code",
   "execution_count": 119,
   "metadata": {},
   "outputs": [
    {
     "data": {
      "text/plain": [
       "{'id_equip': 1907,\n",
       " 'nom': 'Maison des Jeux',\n",
       " 'adresse': '48 Quai de France',\n",
       " 'domaine': 'Sports et Loisirs',\n",
       " 'sous_domaine': 'Equipements socioculturels'}"
      ]
     },
     "execution_count": 119,
     "metadata": {},
     "output_type": "execute_result"
    }
   ],
   "source": [
    "mdj"
   ]
  },
  {
   "cell_type": "code",
   "execution_count": 120,
   "metadata": {},
   "outputs": [
    {
     "data": {
      "text/plain": [
       "dict"
      ]
     },
     "execution_count": 120,
     "metadata": {},
     "output_type": "execute_result"
    }
   ],
   "source": [
    "type(mdj)"
   ]
  },
  {
   "cell_type": "code",
   "execution_count": 121,
   "metadata": {},
   "outputs": [],
   "source": [
    "emhb = {\n",
    "   \"id_equip\" : 258,\n",
    "    \"nom\" : \"Ecole maternelle Houille Blanche\",\n",
    "    \"adresse\" : \"3 Rue de la Houille Blanche\",\n",
    "    \"domaine\" : \"Education\",\n",
    "    \"sous_domaine\" : \"Ecoles maternelles\"}"
   ]
  },
  {
   "cell_type": "code",
   "execution_count": 122,
   "metadata": {
    "scrolled": true
   },
   "outputs": [
    {
     "data": {
      "text/plain": [
       "{'id_equip': 258,\n",
       " 'nom': 'Ecole maternelle Houille Blanche',\n",
       " 'adresse': '3 Rue de la Houille Blanche',\n",
       " 'domaine': 'Education',\n",
       " 'sous_domaine': 'Ecoles maternelles'}"
      ]
     },
     "execution_count": 122,
     "metadata": {},
     "output_type": "execute_result"
    }
   ],
   "source": [
    "emhb"
   ]
  },
  {
   "cell_type": "code",
   "execution_count": 123,
   "metadata": {},
   "outputs": [
    {
     "data": {
      "text/plain": [
       "dict"
      ]
     },
     "execution_count": 123,
     "metadata": {},
     "output_type": "execute_result"
    }
   ],
   "source": [
    "type(emhb)"
   ]
  },
  {
   "cell_type": "markdown",
   "metadata": {},
   "source": [
    "Les équipements de type dictionnaire mdj et emhb partagent *implicitement* une même structure de données. Une bonne idée serait de rendre *explicite* cette structure afin de s'assurer que tous les équipements auront bien tous la même structure. Cette structure pourra aussi être réutilisée et partagée dans d'autres développements pour que tous les *objets de type équipements est la même structure* ou \"modèle\". On obtient cela en créant une classe d'objets :"
   ]
  },
  {
   "cell_type": "code",
   "execution_count": 124,
   "metadata": {},
   "outputs": [],
   "source": [
    "class Equipement:\n",
    "    # Ceci est le constructeur d'objets\n",
    "    def __init__(self, id_equip, nom, adresse = \"\", domaine = \"\", sous_domaine = \"\"):\n",
    "        self.id_equip = id_equip\n",
    "        self.nom = nom\n",
    "        self.adresse = adresse\n",
    "        self.domaine = domaine\n",
    "        self.sous_domaine = sous_domaine"
   ]
  },
  {
   "cell_type": "markdown",
   "metadata": {},
   "source": [
    "Création d'une objet :"
   ]
  },
  {
   "cell_type": "code",
   "execution_count": 125,
   "metadata": {},
   "outputs": [],
   "source": [
    "omdj = Equipement(id_equip = 1907, nom = \"Maison des Jeux\")"
   ]
  },
  {
   "cell_type": "markdown",
   "metadata": {},
   "source": [
    "On accède aux *attributs* d'un objet en utilisant la notation pointée :"
   ]
  },
  {
   "cell_type": "code",
   "execution_count": 126,
   "metadata": {},
   "outputs": [
    {
     "data": {
      "text/plain": [
       "'Maison des Jeux'"
      ]
     },
     "execution_count": 126,
     "metadata": {},
     "output_type": "execute_result"
    }
   ],
   "source": [
    "omdj.nom"
   ]
  },
  {
   "cell_type": "code",
   "execution_count": 127,
   "metadata": {},
   "outputs": [
    {
     "data": {
      "text/plain": [
       "''"
      ]
     },
     "execution_count": 127,
     "metadata": {},
     "output_type": "execute_result"
    }
   ],
   "source": [
    "omdj.adresse"
   ]
  },
  {
   "cell_type": "code",
   "execution_count": 128,
   "metadata": {},
   "outputs": [],
   "source": [
    "omdj.adresse = \"48 Quai de France\""
   ]
  },
  {
   "cell_type": "code",
   "execution_count": 129,
   "metadata": {},
   "outputs": [
    {
     "data": {
      "text/plain": [
       "'48 Quai de France'"
      ]
     },
     "execution_count": 129,
     "metadata": {},
     "output_type": "execute_result"
    }
   ],
   "source": [
    "omdj.adresse"
   ]
  },
  {
   "cell_type": "code",
   "execution_count": 130,
   "metadata": {},
   "outputs": [
    {
     "data": {
      "text/plain": [
       "__main__.Equipement"
      ]
     },
     "execution_count": 130,
     "metadata": {},
     "output_type": "execute_result"
    }
   ],
   "source": [
    "type(omdj)"
   ]
  },
  {
   "cell_type": "markdown",
   "metadata": {},
   "source": [
    "On a donc bien défini notre propre type Equipement."
   ]
  },
  {
   "cell_type": "code",
   "execution_count": 131,
   "metadata": {},
   "outputs": [],
   "source": [
    "oemhb = Equipement(id_equip = emhb['id_equip'], nom = emhb['nom'])"
   ]
  },
  {
   "cell_type": "code",
   "execution_count": 132,
   "metadata": {},
   "outputs": [
    {
     "data": {
      "text/plain": [
       "'Ecole maternelle Houille Blanche'"
      ]
     },
     "execution_count": 132,
     "metadata": {},
     "output_type": "execute_result"
    }
   ],
   "source": [
    "oemhb.nom"
   ]
  },
  {
   "cell_type": "markdown",
   "metadata": {},
   "source": [
    "Mais en quoi une classe d'objets est-elle un \"super dictionnaire\" ?  \n",
    "\n",
    "Tout d'abord elle permet de donner aux objets des *comportements* ou *méthodes* qui leurs sont propres. Ainsi, on peut décider que tout équipement peut déterminer sa position :"
   ]
  },
  {
   "cell_type": "code",
   "execution_count": 2,
   "metadata": {},
   "outputs": [],
   "source": [
    "import requests, json\n",
    "import urllib.parse\n",
    "\n",
    "class Equipement:\n",
    "    \"\"\"Equipement de la ville de Grenoble\"\"\"\n",
    "    \n",
    "    # Attribut 'statique' càd commun à tous les équipements\n",
    "    API_URL = \"https://api-adresse.data.gouv.fr/search/?q=\"\n",
    "    \n",
    "    # Ceci est le constructeur d'objets\n",
    "    def __init__(self, id_equip, nom, adresse = \"\", domaine = \"\", sous_domaine = \"\"):\n",
    "        self.id_equip = id_equip\n",
    "        self.nom = nom\n",
    "        self.adresse = adresse\n",
    "        self.domaine = domaine\n",
    "        self.sous_domaine = sous_domaine\n",
    "        \n",
    "    # Géocodage de l'équipement\n",
    "    def geocode(self):\n",
    "        if self.adresse:\n",
    "            r = requests.get(self.API_URL + urllib.parse.quote(self.adresse + \" Grenoble\"))\n",
    "            return json.loads(r.content.decode('unicode_escape'))\n",
    "        else:\n",
    "            print(\"Adresse vide. Géocodage impossible\")"
   ]
  },
  {
   "cell_type": "code",
   "execution_count": 3,
   "metadata": {},
   "outputs": [
    {
     "data": {
      "text/plain": [
       "'https://api-adresse.data.gouv.fr/search/?q='"
      ]
     },
     "execution_count": 3,
     "metadata": {},
     "output_type": "execute_result"
    }
   ],
   "source": [
    "Equipement.API_URL"
   ]
  },
  {
   "cell_type": "code",
   "execution_count": 4,
   "metadata": {},
   "outputs": [],
   "source": [
    "olc = Equipement(id_equip = 136, nom = \"Le Ciel\", adresse = \"2 Rue Général Marchand\", domaine = \"Culture\")"
   ]
  },
  {
   "cell_type": "code",
   "execution_count": 5,
   "metadata": {},
   "outputs": [
    {
     "data": {
      "text/plain": [
       "'2 Rue Général Marchand'"
      ]
     },
     "execution_count": 5,
     "metadata": {},
     "output_type": "execute_result"
    }
   ],
   "source": [
    "olc.adresse"
   ]
  },
  {
   "cell_type": "code",
   "execution_count": 6,
   "metadata": {},
   "outputs": [
    {
     "data": {
      "text/plain": [
       "{'type': 'FeatureCollection',\n",
       " 'version': 'draft',\n",
       " 'features': [{'type': 'Feature',\n",
       "   'geometry': {'type': 'Point', 'coordinates': [5.73139, 45.189442]},\n",
       "   'properties': {'label': '2 Rue Général Marchand 38000 Grenoble',\n",
       "    'score': 0.9648145454545454,\n",
       "    'housenumber': '2',\n",
       "    'id': '38185_3130_00002',\n",
       "    'name': '2 Rue Général Marchand',\n",
       "    'postcode': '38000',\n",
       "    'citycode': '38185',\n",
       "    'x': 914461.26,\n",
       "    'y': 6458168.4,\n",
       "    'city': 'Grenoble',\n",
       "    'context': '38, Isère, Auvergne-Rhône-Alpes',\n",
       "    'type': 'housenumber',\n",
       "    'importance': 0.61296,\n",
       "    'street': 'Rue Général Marchand'}}],\n",
       " 'attribution': 'BAN',\n",
       " 'licence': 'ETALAB-2.0',\n",
       " 'query': '2 Rue Général Marchand Grenoble',\n",
       " 'limit': 5}"
      ]
     },
     "execution_count": 6,
     "metadata": {},
     "output_type": "execute_result"
    }
   ],
   "source": [
    "Equipement.geocode(olc)"
   ]
  },
  {
   "cell_type": "markdown",
   "metadata": {},
   "source": [
    "Ou de façon équivalente :"
   ]
  },
  {
   "cell_type": "code",
   "execution_count": 7,
   "metadata": {
    "scrolled": false
   },
   "outputs": [
    {
     "data": {
      "text/plain": [
       "{'type': 'FeatureCollection',\n",
       " 'version': 'draft',\n",
       " 'features': [{'type': 'Feature',\n",
       "   'geometry': {'type': 'Point', 'coordinates': [5.73139, 45.189442]},\n",
       "   'properties': {'label': '2 Rue Général Marchand 38000 Grenoble',\n",
       "    'score': 0.9648145454545454,\n",
       "    'housenumber': '2',\n",
       "    'id': '38185_3130_00002',\n",
       "    'name': '2 Rue Général Marchand',\n",
       "    'postcode': '38000',\n",
       "    'citycode': '38185',\n",
       "    'x': 914461.26,\n",
       "    'y': 6458168.4,\n",
       "    'city': 'Grenoble',\n",
       "    'context': '38, Isère, Auvergne-Rhône-Alpes',\n",
       "    'type': 'housenumber',\n",
       "    'importance': 0.61296,\n",
       "    'street': 'Rue Général Marchand'}}],\n",
       " 'attribution': 'BAN',\n",
       " 'licence': 'ETALAB-2.0',\n",
       " 'query': '2 Rue Général Marchand Grenoble',\n",
       " 'limit': 5}"
      ]
     },
     "execution_count": 7,
     "metadata": {},
     "output_type": "execute_result"
    }
   ],
   "source": [
    "olc.geocode()"
   ]
  },
  {
   "cell_type": "code",
   "execution_count": 8,
   "metadata": {},
   "outputs": [
    {
     "name": "stdout",
     "output_type": "stream",
     "text": [
      "Adresse vide. Géocodage impossible\n"
     ]
    }
   ],
   "source": [
    "olps = Equipement(id_equip = 2120, nom = \"Le Prunier Sauvage\")\n",
    "olps.geocode()"
   ]
  },
  {
   "cell_type": "markdown",
   "metadata": {},
   "source": [
    "Un autre \"super pouvoir\" des classes de d'objets est la possibilité est le mécanisme *d'héritage*, c'est-à-dire la possibilité de définir des relations \"types/sous-types\" entre classes. Ainsi une école est un \"sous-type\" d'équipement. Il \"hérite\" de toutes les caractéristiques (attributs et méthodes) de la classe \"parente\" tout en ayant des caractéristiques qui lui sont propres. Par exemple, un effectif d'élèves et une zone scolaire (où tous les enfants qui réside dans cette zone doivent aller à l'école correspondante). Par ce mécanisme d'héritage, une école est une *spécialisation* d'équipement, et équipement est une *généralisation* d'école :"
   ]
  },
  {
   "cell_type": "code",
   "execution_count": 9,
   "metadata": {},
   "outputs": [],
   "source": [
    "from enum import Enum\n",
    "# Une école est soit élémentaire soit maternelle\n",
    "class Type_ecole(Enum):\n",
    "    ELEMENTAIRE = 0\n",
    "    MATERNELLE = 1"
   ]
  },
  {
   "cell_type": "code",
   "execution_count": 10,
   "metadata": {},
   "outputs": [
    {
     "data": {
      "text/plain": [
       "<Type_ecole.ELEMENTAIRE: 0>"
      ]
     },
     "execution_count": 10,
     "metadata": {},
     "output_type": "execute_result"
    }
   ],
   "source": [
    "Type_ecole.ELEMENTAIRE"
   ]
  },
  {
   "cell_type": "code",
   "execution_count": 11,
   "metadata": {},
   "outputs": [],
   "source": [
    "class Ecole(Equipement):\n",
    "    \"\"\"Ecole de Grenoble\"\"\"\n",
    "    \n",
    "    # Constructeur\n",
    "    def __init__(self, id_equip, nom, effectif, zone, type_ecole, adresse_ecole = \"\", domaine = \"\", sous_domaine = \"\"):\n",
    "        # On utilise ici le constructeur de la classe parente Equipement\n",
    "        Equipement.__init__(self, id_equip, nom, adresse = adresse_ecole, domaine = \"\", sous_domaine = \"\")\n",
    "        self.type_ecole = type_ecole\n",
    "        self.effectif = effectif\n",
    "        self.zone = zone   "
   ]
  },
  {
   "cell_type": "code",
   "execution_count": 12,
   "metadata": {},
   "outputs": [
    {
     "data": {
      "text/plain": [
       "<Projected CRS: EPSG:2154>\n",
       "Name: RGF93 / Lambert-93\n",
       "Axis Info [cartesian]:\n",
       "- X[east]: Easting (metre)\n",
       "- Y[north]: Northing (metre)\n",
       "Area of Use:\n",
       "- name: France - onshore and offshore, mainland and Corsica.\n",
       "- bounds: (-9.86, 41.15, 10.38, 51.56)\n",
       "Coordinate Operation:\n",
       "- name: Lambert-93\n",
       "- method: Lambert Conic Conformal (2SP)\n",
       "Datum: Reseau Geodesique Francais 1993\n",
       "- Ellipsoid: GRS 1980\n",
       "- Prime Meridian: Greenwich"
      ]
     },
     "execution_count": 12,
     "metadata": {},
     "output_type": "execute_result"
    }
   ],
   "source": [
    "import folium\n",
    "import pandas\n",
    "import geopandas\n",
    "\n",
    "# Lit les zones scolaires\n",
    "zones_scolaires = geopandas.read_file(\"ecoles/decoupage_scolaire.geojson\")\n",
    "\n",
    "# Lit les effectifs\n",
    "effectifs_ecoles = pandas.read_csv(\"ecoles/effectifs_ecoles.csv\", sep = \",\")\n",
    "\n",
    "zones_scolaires.crs"
   ]
  },
  {
   "cell_type": "markdown",
   "metadata": {},
   "source": [
    "Pour cartographier sur Folium, il faut reprojeter en WGS84 (EPSG 4326)."
   ]
  },
  {
   "cell_type": "code",
   "execution_count": 241,
   "metadata": {
    "scrolled": true
   },
   "outputs": [
    {
     "data": {
      "text/html": [
       "<div>\n",
       "<style scoped>\n",
       "    .dataframe tbody tr th:only-of-type {\n",
       "        vertical-align: middle;\n",
       "    }\n",
       "\n",
       "    .dataframe tbody tr th {\n",
       "        vertical-align: top;\n",
       "    }\n",
       "\n",
       "    .dataframe thead th {\n",
       "        text-align: right;\n",
       "    }\n",
       "</style>\n",
       "<table border=\"1\" class=\"dataframe\">\n",
       "  <thead>\n",
       "    <tr style=\"text-align: right;\">\n",
       "      <th></th>\n",
       "      <th>nom</th>\n",
       "      <th>geometry</th>\n",
       "    </tr>\n",
       "  </thead>\n",
       "  <tbody>\n",
       "    <tr>\n",
       "      <th>0</th>\n",
       "      <td>ELISEE CHATIN</td>\n",
       "      <td>MULTIPOLYGON (((5.71648 45.18036, 5.71778 45.1...</td>\n",
       "    </tr>\n",
       "    <tr>\n",
       "      <th>1</th>\n",
       "      <td>JARDIN DE VILLE</td>\n",
       "      <td>MULTIPOLYGON (((5.72768 45.19026, 5.72796 45.1...</td>\n",
       "    </tr>\n",
       "    <tr>\n",
       "      <th>2</th>\n",
       "      <td>ANATOLE FRANCE</td>\n",
       "      <td>MULTIPOLYGON (((5.70782 45.17295, 5.70791 45.1...</td>\n",
       "    </tr>\n",
       "    <tr>\n",
       "      <th>3</th>\n",
       "      <td>LAC</td>\n",
       "      <td>MULTIPOLYGON (((5.73549 45.16276, 5.73593 45.1...</td>\n",
       "    </tr>\n",
       "    <tr>\n",
       "      <th>4</th>\n",
       "      <td>SIDI-BRAHIM</td>\n",
       "      <td>MULTIPOLYGON (((5.71677 45.17376, 5.71680 45.1...</td>\n",
       "    </tr>\n",
       "  </tbody>\n",
       "</table>\n",
       "</div>"
      ],
      "text/plain": [
       "               nom                                           geometry\n",
       "0    ELISEE CHATIN  MULTIPOLYGON (((5.71648 45.18036, 5.71778 45.1...\n",
       "1  JARDIN DE VILLE  MULTIPOLYGON (((5.72768 45.19026, 5.72796 45.1...\n",
       "2   ANATOLE FRANCE  MULTIPOLYGON (((5.70782 45.17295, 5.70791 45.1...\n",
       "3              LAC  MULTIPOLYGON (((5.73549 45.16276, 5.73593 45.1...\n",
       "4      SIDI-BRAHIM  MULTIPOLYGON (((5.71677 45.17376, 5.71680 45.1..."
      ]
     },
     "execution_count": 241,
     "metadata": {},
     "output_type": "execute_result"
    }
   ],
   "source": [
    "zones_scolaires = zones_scolaires.to_crs(\"EPSG:4326\")\n",
    "zones_scolaires.head()"
   ]
  },
  {
   "cell_type": "code",
   "execution_count": 242,
   "metadata": {},
   "outputs": [
    {
     "data": {
      "text/plain": [
       "184"
      ]
     },
     "execution_count": 242,
     "metadata": {},
     "output_type": "execute_result"
    }
   ],
   "source": [
    "# Effectif de l'école Nicolas Chorier\n",
    "effectifs_chorier = int(effectifs_ecoles[effectifs_ecoles[\"nom\"] == \"NICOLAS CHORIER\"][\"effectifs\"])\n",
    "effectifs_chorier"
   ]
  },
  {
   "cell_type": "code",
   "execution_count": 243,
   "metadata": {},
   "outputs": [
    {
     "data": {
      "text/plain": [
       "'{\"type\": \"FeatureCollection\", \"features\": [{\"id\": \"28\", \"type\": \"Feature\", \"properties\": {\"nom\": \"NICOLAS CHORIER\"}, \"geometry\": {\"type\": \"MultiPolygon\", \"coordinates\": [[[[5.711537000000001, 45.18265299999998], [5.7116039999999995, 45.18257199999998], [5.712425, 45.18246899999998], [5.715399, 45.182096], [5.716051999999999, 45.181991], [5.7169609999999995, 45.18184500000001], [5.717052999999997, 45.18211999999998], [5.717295999999998, 45.18282199999999], [5.717375999999999, 45.18306399999997], [5.717622999999998, 45.18380599999999], [5.717631, 45.18383399999999], [5.717671, 45.183952999999974], [5.717638999999999, 45.184094999999985], [5.7175199999999995, 45.184608], [5.717472999999999, 45.18494999999998], [5.717441999999998, 45.18501699999999], [5.717577999999998, 45.185044999999995], [5.717698, 45.18526099999998], [5.717820999999999, 45.18521199999998], [5.71791, 45.185246], [5.717653, 45.185391999999986], [5.717730999999998, 45.185494999999996], [5.717594, 45.18554999999997], [5.71763, 45.18568899999999], [5.718138999999999, 45.18588499999999], [5.718038999999997, 45.18593399999999], [5.717744999999998, 45.18594699999998], [5.7177229999999994, 45.186092999999985], [5.717952999999998, 45.18613899999998], [5.718015999999998, 45.186230999999985], [5.718025999999999, 45.18643399999998], [5.717235999999998, 45.18667599999998], [5.717139999999999, 45.18651199999998], [5.716896999999999, 45.18651399999998], [5.716709999999999, 45.18638999999998], [5.716480999999999, 45.18689199999999], [5.716324999999999, 45.18720699999999], [5.716083, 45.187635999999976], [5.7160329999999995, 45.18765099999999], [5.715978999999999, 45.187736999999984], [5.715753999999999, 45.188221], [5.715744999999999, 45.18824099999998], [5.715481999999998, 45.18825699999997], [5.715420999999999, 45.188100999999996], [5.715303999999999, 45.18808199999999], [5.714699, 45.18700900000001], [5.714496, 45.18706399999997], [5.713794, 45.18710599999999], [5.71373, 45.18710899999998], [5.713633, 45.18705799999999], [5.713599999999999, 45.18690499999999], [5.713288999999999, 45.18669999999998], [5.71303, 45.18671299999998], [5.713055999999998, 45.186856999999975], [5.71261, 45.186886999999984], [5.7126399999999995, 45.18711999999997], [5.712469, 45.18716699999998], [5.712443999999999, 45.18704699999999], [5.712164999999998, 45.185691999999975], [5.712025, 45.185009999999984], [5.711927, 45.18453599999998], [5.711873, 45.18427199999999], [5.711776999999999, 45.183807], [5.711666999999999, 45.183269999999986], [5.711537000000001, 45.18265299999998]]]]}}]}'"
      ]
     },
     "execution_count": 243,
     "metadata": {},
     "output_type": "execute_result"
    }
   ],
   "source": [
    "# Zone scolaire de l'école Nicolas Chorier (EPSG 4326)\n",
    "zone_chorier = zones_scolaires[zones_scolaires['nom'] == 'NICOLAS CHORIER'].to_json()\n",
    "zone_chorier"
   ]
  },
  {
   "cell_type": "code",
   "execution_count": 244,
   "metadata": {},
   "outputs": [],
   "source": [
    "ecole_chorier = Ecole(\n",
    "    id_equip = 236, \n",
    "    nom = \"NICOLAS CHORIER\",\n",
    "    adresse_ecole = \"23 Rue Nicolas Chorier\",\n",
    "    effectif = effectifs_chorier, \n",
    "    zone = zone_chorier, \n",
    "    type_ecole = Type_ecole.ELEMENTAIRE)"
   ]
  },
  {
   "cell_type": "code",
   "execution_count": 249,
   "metadata": {},
   "outputs": [
    {
     "data": {
      "text/plain": [
       "<folium.features.GeoJson at 0x7fbd17a6c250>"
      ]
     },
     "execution_count": 249,
     "metadata": {},
     "output_type": "execute_result"
    }
   ],
   "source": [
    "# Coordonnées de l'école Nicolas Chorier\n",
    "coordinates_chorier = ecole_chorier.geocode()[\"features\"][0][\"geometry\"][\"coordinates\"]\n",
    "\n",
    "# Inversion des coordonnées pour avoir [longitude, latitude]\n",
    "coordinates_chorier.reverse()\n",
    "\n",
    "# Création d'une carte Folium centrée sur l'école\n",
    "map_chorier = folium.Map(coordinates_chorier, zoom_start = 16)\n",
    "\n",
    "# Ajout d'un marqueur pour l'école\n",
    "folium.Marker(coordinates_chorier, \n",
    "              popup = \"Effectif : \" + str(effectifs_chorier)).add_to(map_chorier)\n",
    "\n",
    "# Ajout de la zone scolaire\n",
    "folium.GeoJson(\n",
    "    data = zone_chorier,\n",
    "    name = \"Zone scolaire\"\n",
    ").add_to(map_chorier)"
   ]
  },
  {
   "cell_type": "code",
   "execution_count": 250,
   "metadata": {},
   "outputs": [
    {
     "data": {
      "text/html": [
       "<div style=\"width:100%;\"><div style=\"position:relative;width:100%;height:0;padding-bottom:60%;\"><span style=\"color:#565656\">Make this Notebook Trusted to load map: File -> Trust Notebook</span><iframe src=\"about:blank\" style=\"position:absolute;width:100%;height:100%;left:0;top:0;border:none !important;\" data-html=%3C%21DOCTYPE%20html%3E%0A%3Chead%3E%20%20%20%20%0A%20%20%20%20%3Cmeta%20http-equiv%3D%22content-type%22%20content%3D%22text/html%3B%20charset%3DUTF-8%22%20/%3E%0A%20%20%20%20%0A%20%20%20%20%20%20%20%20%3Cscript%3E%0A%20%20%20%20%20%20%20%20%20%20%20%20L_NO_TOUCH%20%3D%20false%3B%0A%20%20%20%20%20%20%20%20%20%20%20%20L_DISABLE_3D%20%3D%20false%3B%0A%20%20%20%20%20%20%20%20%3C/script%3E%0A%20%20%20%20%0A%20%20%20%20%3Cstyle%3Ehtml%2C%20body%20%7Bwidth%3A%20100%25%3Bheight%3A%20100%25%3Bmargin%3A%200%3Bpadding%3A%200%3B%7D%3C/style%3E%0A%20%20%20%20%3Cstyle%3E%23map%20%7Bposition%3Aabsolute%3Btop%3A0%3Bbottom%3A0%3Bright%3A0%3Bleft%3A0%3B%7D%3C/style%3E%0A%20%20%20%20%3Cscript%20src%3D%22https%3A//cdn.jsdelivr.net/npm/leaflet%401.6.0/dist/leaflet.js%22%3E%3C/script%3E%0A%20%20%20%20%3Cscript%20src%3D%22https%3A//code.jquery.com/jquery-1.12.4.min.js%22%3E%3C/script%3E%0A%20%20%20%20%3Cscript%20src%3D%22https%3A//maxcdn.bootstrapcdn.com/bootstrap/3.2.0/js/bootstrap.min.js%22%3E%3C/script%3E%0A%20%20%20%20%3Cscript%20src%3D%22https%3A//cdnjs.cloudflare.com/ajax/libs/Leaflet.awesome-markers/2.0.2/leaflet.awesome-markers.js%22%3E%3C/script%3E%0A%20%20%20%20%3Clink%20rel%3D%22stylesheet%22%20href%3D%22https%3A//cdn.jsdelivr.net/npm/leaflet%401.6.0/dist/leaflet.css%22/%3E%0A%20%20%20%20%3Clink%20rel%3D%22stylesheet%22%20href%3D%22https%3A//maxcdn.bootstrapcdn.com/bootstrap/3.2.0/css/bootstrap.min.css%22/%3E%0A%20%20%20%20%3Clink%20rel%3D%22stylesheet%22%20href%3D%22https%3A//maxcdn.bootstrapcdn.com/bootstrap/3.2.0/css/bootstrap-theme.min.css%22/%3E%0A%20%20%20%20%3Clink%20rel%3D%22stylesheet%22%20href%3D%22https%3A//maxcdn.bootstrapcdn.com/font-awesome/4.6.3/css/font-awesome.min.css%22/%3E%0A%20%20%20%20%3Clink%20rel%3D%22stylesheet%22%20href%3D%22https%3A//cdnjs.cloudflare.com/ajax/libs/Leaflet.awesome-markers/2.0.2/leaflet.awesome-markers.css%22/%3E%0A%20%20%20%20%3Clink%20rel%3D%22stylesheet%22%20href%3D%22https%3A//cdn.jsdelivr.net/gh/python-visualization/folium/folium/templates/leaflet.awesome.rotate.min.css%22/%3E%0A%20%20%20%20%0A%20%20%20%20%20%20%20%20%20%20%20%20%3Cmeta%20name%3D%22viewport%22%20content%3D%22width%3Ddevice-width%2C%0A%20%20%20%20%20%20%20%20%20%20%20%20%20%20%20%20initial-scale%3D1.0%2C%20maximum-scale%3D1.0%2C%20user-scalable%3Dno%22%20/%3E%0A%20%20%20%20%20%20%20%20%20%20%20%20%3Cstyle%3E%0A%20%20%20%20%20%20%20%20%20%20%20%20%20%20%20%20%23map_78cf6b08e0e84fa590a4347dc4154d6e%20%7B%0A%20%20%20%20%20%20%20%20%20%20%20%20%20%20%20%20%20%20%20%20position%3A%20relative%3B%0A%20%20%20%20%20%20%20%20%20%20%20%20%20%20%20%20%20%20%20%20width%3A%20100.0%25%3B%0A%20%20%20%20%20%20%20%20%20%20%20%20%20%20%20%20%20%20%20%20height%3A%20100.0%25%3B%0A%20%20%20%20%20%20%20%20%20%20%20%20%20%20%20%20%20%20%20%20left%3A%200.0%25%3B%0A%20%20%20%20%20%20%20%20%20%20%20%20%20%20%20%20%20%20%20%20top%3A%200.0%25%3B%0A%20%20%20%20%20%20%20%20%20%20%20%20%20%20%20%20%7D%0A%20%20%20%20%20%20%20%20%20%20%20%20%3C/style%3E%0A%20%20%20%20%20%20%20%20%0A%3C/head%3E%0A%3Cbody%3E%20%20%20%20%0A%20%20%20%20%0A%20%20%20%20%20%20%20%20%20%20%20%20%3Cdiv%20class%3D%22folium-map%22%20id%3D%22map_78cf6b08e0e84fa590a4347dc4154d6e%22%20%3E%3C/div%3E%0A%20%20%20%20%20%20%20%20%0A%3C/body%3E%0A%3Cscript%3E%20%20%20%20%0A%20%20%20%20%0A%20%20%20%20%20%20%20%20%20%20%20%20var%20map_78cf6b08e0e84fa590a4347dc4154d6e%20%3D%20L.map%28%0A%20%20%20%20%20%20%20%20%20%20%20%20%20%20%20%20%22map_78cf6b08e0e84fa590a4347dc4154d6e%22%2C%0A%20%20%20%20%20%20%20%20%20%20%20%20%20%20%20%20%7B%0A%20%20%20%20%20%20%20%20%20%20%20%20%20%20%20%20%20%20%20%20center%3A%20%5B45.185812%2C%205.715179%5D%2C%0A%20%20%20%20%20%20%20%20%20%20%20%20%20%20%20%20%20%20%20%20crs%3A%20L.CRS.EPSG3857%2C%0A%20%20%20%20%20%20%20%20%20%20%20%20%20%20%20%20%20%20%20%20zoom%3A%2016%2C%0A%20%20%20%20%20%20%20%20%20%20%20%20%20%20%20%20%20%20%20%20zoomControl%3A%20true%2C%0A%20%20%20%20%20%20%20%20%20%20%20%20%20%20%20%20%20%20%20%20preferCanvas%3A%20false%2C%0A%20%20%20%20%20%20%20%20%20%20%20%20%20%20%20%20%7D%0A%20%20%20%20%20%20%20%20%20%20%20%20%29%3B%0A%0A%20%20%20%20%20%20%20%20%20%20%20%20%0A%0A%20%20%20%20%20%20%20%20%0A%20%20%20%20%0A%20%20%20%20%20%20%20%20%20%20%20%20var%20tile_layer_46dfcfa644044c6a89ad3e9963182493%20%3D%20L.tileLayer%28%0A%20%20%20%20%20%20%20%20%20%20%20%20%20%20%20%20%22https%3A//%7Bs%7D.tile.openstreetmap.org/%7Bz%7D/%7Bx%7D/%7By%7D.png%22%2C%0A%20%20%20%20%20%20%20%20%20%20%20%20%20%20%20%20%7B%22attribution%22%3A%20%22Data%20by%20%5Cu0026copy%3B%20%5Cu003ca%20href%3D%5C%22http%3A//openstreetmap.org%5C%22%5Cu003eOpenStreetMap%5Cu003c/a%5Cu003e%2C%20under%20%5Cu003ca%20href%3D%5C%22http%3A//www.openstreetmap.org/copyright%5C%22%5Cu003eODbL%5Cu003c/a%5Cu003e.%22%2C%20%22detectRetina%22%3A%20false%2C%20%22maxNativeZoom%22%3A%2018%2C%20%22maxZoom%22%3A%2018%2C%20%22minZoom%22%3A%200%2C%20%22noWrap%22%3A%20false%2C%20%22opacity%22%3A%201%2C%20%22subdomains%22%3A%20%22abc%22%2C%20%22tms%22%3A%20false%7D%0A%20%20%20%20%20%20%20%20%20%20%20%20%29.addTo%28map_78cf6b08e0e84fa590a4347dc4154d6e%29%3B%0A%20%20%20%20%20%20%20%20%0A%20%20%20%20%0A%20%20%20%20%20%20%20%20%20%20%20%20var%20marker_90d0755f94844510b919f126ece56784%20%3D%20L.marker%28%0A%20%20%20%20%20%20%20%20%20%20%20%20%20%20%20%20%5B45.185812%2C%205.715179%5D%2C%0A%20%20%20%20%20%20%20%20%20%20%20%20%20%20%20%20%7B%7D%0A%20%20%20%20%20%20%20%20%20%20%20%20%29.addTo%28map_78cf6b08e0e84fa590a4347dc4154d6e%29%3B%0A%20%20%20%20%20%20%20%20%0A%20%20%20%20%0A%20%20%20%20%20%20%20%20var%20popup_d09e52242712454694c5186cffd4d238%20%3D%20L.popup%28%7B%22maxWidth%22%3A%20%22100%25%22%7D%29%3B%0A%0A%20%20%20%20%20%20%20%20%0A%20%20%20%20%20%20%20%20%20%20%20%20var%20html_d798fbf4fe534b728f19a64b5100bba3%20%3D%20%24%28%60%3Cdiv%20id%3D%22html_d798fbf4fe534b728f19a64b5100bba3%22%20style%3D%22width%3A%20100.0%25%3B%20height%3A%20100.0%25%3B%22%3EEffectif%20%3A%20184%3C/div%3E%60%29%5B0%5D%3B%0A%20%20%20%20%20%20%20%20%20%20%20%20popup_d09e52242712454694c5186cffd4d238.setContent%28html_d798fbf4fe534b728f19a64b5100bba3%29%3B%0A%20%20%20%20%20%20%20%20%0A%0A%20%20%20%20%20%20%20%20marker_90d0755f94844510b919f126ece56784.bindPopup%28popup_d09e52242712454694c5186cffd4d238%29%0A%20%20%20%20%20%20%20%20%3B%0A%0A%20%20%20%20%20%20%20%20%0A%20%20%20%20%0A%20%20%20%20%0A%0A%20%20%20%20%20%20%20%20function%20geo_json_6b7f6dc883b6499780a06219dc5aa45f_onEachFeature%28feature%2C%20layer%29%20%7B%0A%20%20%20%20%20%20%20%20%20%20%20%20layer.on%28%7B%0A%20%20%20%20%20%20%20%20%20%20%20%20%7D%29%3B%0A%20%20%20%20%20%20%20%20%7D%3B%0A%20%20%20%20%20%20%20%20var%20geo_json_6b7f6dc883b6499780a06219dc5aa45f%20%3D%20L.geoJson%28null%2C%20%7B%0A%20%20%20%20%20%20%20%20%20%20%20%20%20%20%20%20onEachFeature%3A%20geo_json_6b7f6dc883b6499780a06219dc5aa45f_onEachFeature%2C%0A%20%20%20%20%20%20%20%20%20%20%20%20%0A%20%20%20%20%20%20%20%20%7D%29%3B%0A%0A%20%20%20%20%20%20%20%20function%20geo_json_6b7f6dc883b6499780a06219dc5aa45f_add%20%28data%29%20%7B%0A%20%20%20%20%20%20%20%20%20%20%20%20geo_json_6b7f6dc883b6499780a06219dc5aa45f%0A%20%20%20%20%20%20%20%20%20%20%20%20%20%20%20%20.addData%28data%29%0A%20%20%20%20%20%20%20%20%20%20%20%20%20%20%20%20.addTo%28map_78cf6b08e0e84fa590a4347dc4154d6e%29%3B%0A%20%20%20%20%20%20%20%20%7D%0A%20%20%20%20%20%20%20%20%20%20%20%20geo_json_6b7f6dc883b6499780a06219dc5aa45f_add%28%7B%22features%22%3A%20%5B%7B%22geometry%22%3A%20%7B%22coordinates%22%3A%20%5B%5B%5B%5B5.711537000000001%2C%2045.18265299999998%5D%2C%20%5B5.7116039999999995%2C%2045.18257199999998%5D%2C%20%5B5.712425%2C%2045.18246899999998%5D%2C%20%5B5.715399%2C%2045.182096%5D%2C%20%5B5.716051999999999%2C%2045.181991%5D%2C%20%5B5.7169609999999995%2C%2045.18184500000001%5D%2C%20%5B5.717052999999997%2C%2045.18211999999998%5D%2C%20%5B5.717295999999998%2C%2045.18282199999999%5D%2C%20%5B5.717375999999999%2C%2045.18306399999997%5D%2C%20%5B5.717622999999998%2C%2045.18380599999999%5D%2C%20%5B5.717631%2C%2045.18383399999999%5D%2C%20%5B5.717671%2C%2045.183952999999974%5D%2C%20%5B5.717638999999999%2C%2045.184094999999985%5D%2C%20%5B5.7175199999999995%2C%2045.184608%5D%2C%20%5B5.717472999999999%2C%2045.18494999999998%5D%2C%20%5B5.717441999999998%2C%2045.18501699999999%5D%2C%20%5B5.717577999999998%2C%2045.185044999999995%5D%2C%20%5B5.717698%2C%2045.18526099999998%5D%2C%20%5B5.717820999999999%2C%2045.18521199999998%5D%2C%20%5B5.71791%2C%2045.185246%5D%2C%20%5B5.717653%2C%2045.185391999999986%5D%2C%20%5B5.717730999999998%2C%2045.185494999999996%5D%2C%20%5B5.717594%2C%2045.18554999999997%5D%2C%20%5B5.71763%2C%2045.18568899999999%5D%2C%20%5B5.718138999999999%2C%2045.18588499999999%5D%2C%20%5B5.718038999999997%2C%2045.18593399999999%5D%2C%20%5B5.717744999999998%2C%2045.18594699999998%5D%2C%20%5B5.7177229999999994%2C%2045.186092999999985%5D%2C%20%5B5.717952999999998%2C%2045.18613899999998%5D%2C%20%5B5.718015999999998%2C%2045.186230999999985%5D%2C%20%5B5.718025999999999%2C%2045.18643399999998%5D%2C%20%5B5.717235999999998%2C%2045.18667599999998%5D%2C%20%5B5.717139999999999%2C%2045.18651199999998%5D%2C%20%5B5.716896999999999%2C%2045.18651399999998%5D%2C%20%5B5.716709999999999%2C%2045.18638999999998%5D%2C%20%5B5.716480999999999%2C%2045.18689199999999%5D%2C%20%5B5.716324999999999%2C%2045.18720699999999%5D%2C%20%5B5.716083%2C%2045.187635999999976%5D%2C%20%5B5.7160329999999995%2C%2045.18765099999999%5D%2C%20%5B5.715978999999999%2C%2045.187736999999984%5D%2C%20%5B5.715753999999999%2C%2045.188221%5D%2C%20%5B5.715744999999999%2C%2045.18824099999998%5D%2C%20%5B5.715481999999998%2C%2045.18825699999997%5D%2C%20%5B5.715420999999999%2C%2045.188100999999996%5D%2C%20%5B5.715303999999999%2C%2045.18808199999999%5D%2C%20%5B5.714699%2C%2045.18700900000001%5D%2C%20%5B5.714496%2C%2045.18706399999997%5D%2C%20%5B5.713794%2C%2045.18710599999999%5D%2C%20%5B5.71373%2C%2045.18710899999998%5D%2C%20%5B5.713633%2C%2045.18705799999999%5D%2C%20%5B5.713599999999999%2C%2045.18690499999999%5D%2C%20%5B5.713288999999999%2C%2045.18669999999998%5D%2C%20%5B5.71303%2C%2045.18671299999998%5D%2C%20%5B5.713055999999998%2C%2045.186856999999975%5D%2C%20%5B5.71261%2C%2045.186886999999984%5D%2C%20%5B5.7126399999999995%2C%2045.18711999999997%5D%2C%20%5B5.712469%2C%2045.18716699999998%5D%2C%20%5B5.712443999999999%2C%2045.18704699999999%5D%2C%20%5B5.712164999999998%2C%2045.185691999999975%5D%2C%20%5B5.712025%2C%2045.185009999999984%5D%2C%20%5B5.711927%2C%2045.18453599999998%5D%2C%20%5B5.711873%2C%2045.18427199999999%5D%2C%20%5B5.711776999999999%2C%2045.183807%5D%2C%20%5B5.711666999999999%2C%2045.183269999999986%5D%2C%20%5B5.711537000000001%2C%2045.18265299999998%5D%5D%5D%5D%2C%20%22type%22%3A%20%22MultiPolygon%22%7D%2C%20%22id%22%3A%20%2228%22%2C%20%22properties%22%3A%20%7B%22nom%22%3A%20%22NICOLAS%20CHORIER%22%7D%2C%20%22type%22%3A%20%22Feature%22%7D%5D%2C%20%22type%22%3A%20%22FeatureCollection%22%7D%29%3B%0A%0A%20%20%20%20%20%20%20%20%0A%3C/script%3E onload=\"this.contentDocument.open();this.contentDocument.write(    decodeURIComponent(this.getAttribute('data-html')));this.contentDocument.close();\" allowfullscreen webkitallowfullscreen mozallowfullscreen></iframe></div></div>"
      ],
      "text/plain": [
       "<folium.folium.Map at 0x7fbd1c532160>"
      ]
     },
     "execution_count": 250,
     "metadata": {},
     "output_type": "execute_result"
    }
   ],
   "source": [
    "map_chorier"
   ]
  },
  {
   "cell_type": "markdown",
   "metadata": {},
   "source": [
    "L'intérêt des classes d'objets et du mécanisme d'héritage est donc la possibilité de définir ses propres types, de les réutiliser, et de pouvoir les combiner. L'idée sous-jacente est d'obtenir un code claire, lisible, structuré, maintenable et qui parle la langue des données que l'on traite (des équipements, des écoles etc.) plutôt que de concepts informatiques (entiers, textes, tableaux, dictionnaires etc.)"
   ]
  },
  {
   "cell_type": "code",
   "execution_count": null,
   "metadata": {},
   "outputs": [],
   "source": []
  }
 ],
 "metadata": {
  "kernelspec": {
   "display_name": "Python 3",
   "language": "python",
   "name": "python3"
  },
  "language_info": {
   "codemirror_mode": {
    "name": "ipython",
    "version": 3
   },
   "file_extension": ".py",
   "mimetype": "text/x-python",
   "name": "python",
   "nbconvert_exporter": "python",
   "pygments_lexer": "ipython3",
   "version": "3.8.5"
  }
 },
 "nbformat": 4,
 "nbformat_minor": 4
}
