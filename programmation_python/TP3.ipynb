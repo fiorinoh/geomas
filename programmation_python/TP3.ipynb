{
 "cells": [
  {
   "cell_type": "markdown",
   "metadata": {},
   "source": [
    "# Structures de données : les listes"
   ]
  },
  {
   "cell_type": "markdown",
   "metadata": {},
   "source": [
    "## Exercice 1 - Somme des éléments d’un tableau (= liste)\n",
    "\n",
    "On considère l’algorithme suivant (proche de l’exemple E3.1 du Polycopié d’Algorithmique) qui permet d’initialiser un tableau par lecture au clavier puis de calculer la somme de ses éléments.  \n",
    "\n",
    "**lexique**  \n",
    "N : constante entière 10  \n",
    "T : tableau sur [0..N - 1] d’entiers  \n",
    "Somme : entier {pour calculer la somme}\n",
    "\n",
    "**début**  \n",
    "pour i allant de 0 a N - 1 : Ecrire(“Saisissez un entier”); Lire($T_i$)  \n",
    "Somme $\\leftarrow$ 0  \n",
    "pour i allant de 0 a N - 1 : Somme $\\leftarrow$ Somme + $T_i$  \n",
    "Ecrire(Somme)  \n",
    "**fin**  \n",
    "\n",
    "Q1. Traduire cet algorithme *somme_tab* en Python\n",
    "\n",
    "Q2. Créez un fichier de nom donnees.txt contenant 10 entiers (un par ligne). Exécutez maintenant le\n",
    "programme *somme_donnees* ci-dessous."
   ]
  },
  {
   "cell_type": "markdown",
   "metadata": {},
   "source": [
    "## Exercice 2 - Recherche séquentielle\n",
    "On considère un tableau T de 10 entiers. On souhaite savoir si ce tableau contient un entier x donné. On utilise pour cela l’algorithme suivant :  \n",
    "\n",
    "**lexique**  \n",
    "N : constante entière 10  \n",
    "T : tableau sur [0..N - 1] d’entiers x : entier  \n",
    "j : entier sur 0..N  \n",
    "\n",
    "**début**  \n",
    "{Lecture du tableau}  \n",
    "pour i allant de 0 a N - 1 : Ecrire(“Saisissez un entier”); Lire($T_i$)  \n",
    "Ecrire(“Entier à chercher ?”) ; Lire(x)  \n",
    "{Recherche de l’entier x dans T}\n",
    "j $\\leftarrow$ 0  \n",
    "tantque $j<N$ etpuis $T_j \\neq x: j \\leftarrow j+1$  \n",
    "si $j < N$ alors Ecrire(“trouvé” j) sinon Ecrire(“non trouvé”)  \n",
    "**fin**\n",
    "    \n",
    "Q1. Traduire cet algorithme en Python."
   ]
  },
  {
   "cell_type": "markdown",
   "metadata": {},
   "source": [
    "## Exercice 3 - Algorithme de tri"
   ]
  },
  {
   "cell_type": "markdown",
   "metadata": {},
   "source": [
    "Nous allons utiliser un *tri par insertion*. Il existe de nombreux autres algorithmes de tri. Ce qui les distingue est leur performance. Voici le principe du tri par insertion :\n",
    "\n",
    "- créer un tableau vide appelé \"sorted\". On appele le tableau à trier \"toSort\",\n",
    "- rechercher le plus petit élément de toSort et le placer à la première position de sorted,\n",
    "- rechercher ensuite le deuxième élément le plus petit dans toSort et le placer en deuxième position de sorted,\n",
    "- continuer de la même façon jusqu’à ce que le tableau sorted soit entièrement trié.\n",
    "\n",
    "Voici un exemple du fonctionnement de l’algorithme sur le tableau [10, 9, 5, 7, 3] :\n",
    "\n",
    "| sorted     | toSort |\n",
    "| :---        |    :----:   |\n",
    "| []      | [10, 9, 5, 7, 3]       |\n",
    "| [3]      | [10, 9, 5, 7]       |\n",
    "| [3, 5]      | [10, 9, 7]       |\n",
    "| [3, 5, 7]      | [10, 9]       |\n",
    "| [3, 5, 7, 9]      | [10]       |\n",
    "| [3, 5, 7, 9, 10]      | []       |"
   ]
  },
  {
   "cell_type": "markdown",
   "metadata": {},
   "source": [
    "Q1. Ecrire l'algorithme de tri par insertion  \n",
    "Q2. Traduire cet algorithme en Python  \n",
    "Q3. Evaluer les performances de votre programme par rapport à celles de la méthode *sorted()* de la bibliothèque standard de Python."
   ]
  },
  {
   "cell_type": "markdown",
   "metadata": {},
   "source": [
    "## Devoir à rendre"
   ]
  },
  {
   "cell_type": "markdown",
   "metadata": {},
   "source": [
    "> [Quick Sort](https://classroom.github.com/a/CqPEPbv8)"
   ]
  },
  {
   "cell_type": "code",
   "execution_count": null,
   "metadata": {},
   "outputs": [],
   "source": []
  }
 ],
 "metadata": {
  "kernelspec": {
   "display_name": "Python 3",
   "language": "python",
   "name": "python3"
  },
  "language_info": {
   "codemirror_mode": {
    "name": "ipython",
    "version": 3
   },
   "file_extension": ".py",
   "mimetype": "text/x-python",
   "name": "python",
   "nbconvert_exporter": "python",
   "pygments_lexer": "ipython3",
   "version": "3.8.5"
  },
  "latex_envs": {
   "LaTeX_envs_menu_present": true,
   "autoclose": false,
   "autocomplete": true,
   "bibliofile": "biblio.bib",
   "cite_by": "apalike",
   "current_citInitial": 1,
   "eqLabelWithNumbers": true,
   "eqNumInitial": 1,
   "hotkeys": {
    "equation": "Ctrl-E",
    "itemize": "Ctrl-I"
   },
   "labels_anchors": false,
   "latex_user_defs": false,
   "report_style_numbering": false,
   "user_envs_cfg": false
  }
 },
 "nbformat": 4,
 "nbformat_minor": 5
}
