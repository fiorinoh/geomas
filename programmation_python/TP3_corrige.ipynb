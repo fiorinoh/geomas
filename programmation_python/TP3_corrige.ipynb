{
 "cells": [
  {
   "cell_type": "markdown",
   "metadata": {},
   "source": [
    "# Structures de données : les listes"
   ]
  },
  {
   "cell_type": "markdown",
   "metadata": {},
   "source": [
    "## Exercice 1 - Somme des éléments d’un tableau\n",
    "\n",
    "On considère l’algorithme suivant (proche de l’exemple E3.1 du Polycopié d’Algorithmique) qui permet d’initialiser un tableau par lecture au clavier puis de calculer la somme de ses éléments.  \n",
    "\n",
    "**lexique**  \n",
    "N : constante entière 10  \n",
    "T : tableau sur [0..N - 1] d’entiers  \n",
    "Somme : entier {pour calculer la somme}\n",
    "\n",
    "**début**  \n",
    "pour i allant de 0 a N - 1 : Ecrire(“Saisissez un entier”); Lire($T_i$)  \n",
    "Somme $\\leftarrow$ 0  \n",
    "pour i allant de 0 a N - 1 : Somme $\\leftarrow$ Somme + $T_i$  \n",
    "Ecrire(Somme)  \n",
    "**fin**  \n",
    "\n",
    "Q1. Traduire cet algorithme *somme_tab* en Python\n",
    "\n",
    "Q2. Créez un fichier de nom donnees.txt contenant 10 entiers (un par ligne). Exécutez maintenant le\n",
    "programme *somme_donnees* ci-dessous."
   ]
  },
  {
   "cell_type": "code",
   "execution_count": 53,
   "metadata": {},
   "outputs": [],
   "source": [
    "def somme_tab():\n",
    "    nb_elem = 10\n",
    "    tableau = []\n",
    "    for i in range(0, n_elem):\n",
    "        x = int(input('Saisissez un entier : '))\n",
    "        tableau.append(x)\n",
    "    somme = 0\n",
    "    for i in range(0, n_elem):\n",
    "        somme += tableau[i] # somme = somme + tableau[i]\n",
    "    print(\"La somme est \", somme)"
   ]
  },
  {
   "cell_type": "code",
   "execution_count": 54,
   "metadata": {},
   "outputs": [
    {
     "name": "stdout",
     "output_type": "stream",
     "text": [
      "Saisissez un entier : 1\n",
      "Saisissez un entier : 3\n",
      "Saisissez un entier : 4\n",
      "Saisissez un entier : 3\n",
      "Saisissez un entier : 5\n",
      "Saisissez un entier : 23\n",
      "Saisissez un entier : 12\n",
      "Saisissez un entier : 4\n",
      "Saisissez un entier : 0\n",
      "Saisissez un entier : 5\n",
      "La somme est  60\n"
     ]
    }
   ],
   "source": [
    "somme_tab()"
   ]
  },
  {
   "cell_type": "code",
   "execution_count": 27,
   "metadata": {},
   "outputs": [],
   "source": [
    "def somme_donnees():\n",
    "    \n",
    "    # Si le mode n'est pas indiqué,\n",
    "    # le mode lecture est utilisé par défaut ('r'ead)\n",
    "    f = open('donnees.txt', 'r')\n",
    "    line = f.readline()\n",
    "    somme = int(line)\n",
    "    # Une longueur de zéro indique fin de fichier\n",
    "    while (len(line) > 0):\n",
    "        line = f.readline()\n",
    "        # line contient déjà un caractère de\n",
    "        # retour à la ligne à la fin de chaque ligne\n",
    "        # car nous lisons un fichier.\n",
    "        if line:\n",
    "            somme = somme + int(line)\n",
    "    \n",
    "    # Ferme le fichier\n",
    "    f.close()\n",
    "    print(\"La somme est \", somme)"
   ]
  },
  {
   "cell_type": "code",
   "execution_count": 28,
   "metadata": {},
   "outputs": [
    {
     "name": "stdout",
     "output_type": "stream",
     "text": [
      "La somme est  60\n"
     ]
    }
   ],
   "source": [
    "somme_donnees()"
   ]
  },
  {
   "cell_type": "markdown",
   "metadata": {},
   "source": [
    "## Exercice 2 - Recherche séquentielle\n",
    "On considère un tableau T de 10 entiers. On souhaite savoir si ce tableau contient un entier x donné. On utilise pour cela l’algorithme suivant :  \n",
    "\n",
    "**lexique**  \n",
    "N : constante entière 10  \n",
    "T : tableau sur [0..N - 1] d’entiers x : entier  \n",
    "j : entier sur 0..N  \n",
    "\n",
    "**début**  \n",
    "{Lecture du tableau}  \n",
    "pour i allant de 0 a N - 1 : Ecrire(“Saisissez un entier”); Lire($T_i$)  \n",
    "Ecrire(“Entier à chercher ?”) ; Lire(x)  \n",
    "{Recherche de l’entier x dans T}\n",
    "j $\\leftarrow$ 0  \n",
    "tantque $j<N$ etpuis $T_j \\neq x: j \\leftarrow j+1$  \n",
    "si $j < N$ alors Ecrire(“trouvé” j) sinon Ecrire(“non trouvé”)  \n",
    "**fin**\n",
    "    \n",
    "Q1. Traduire cet algorithme en Python."
   ]
  },
  {
   "cell_type": "code",
   "execution_count": 37,
   "metadata": {},
   "outputs": [],
   "source": [
    "def rechercher():\n",
    "    nb_elem = 10\n",
    "    tableau = []\n",
    "    isFound = False\n",
    "    j = 0\n",
    "\n",
    "    for i in range(0, nb_elem):\n",
    "        x = int(input('Saisissez un entier : '))\n",
    "        tableau.append(x)\n",
    "\n",
    "    toBeFound = int(input('Entier à chercher ? '))\n",
    "\n",
    "    while (j < len(tableau)):\n",
    "        x = tableau[j]\n",
    "        j += 1\n",
    "        if (x == toBeFound):\n",
    "            isFound = True\n",
    "\n",
    "    if isFound:\n",
    "        print(\"Trouvé \", toBeFound)\n",
    "    else:\n",
    "        print(\"Non Trouvé\")"
   ]
  },
  {
   "cell_type": "code",
   "execution_count": 39,
   "metadata": {},
   "outputs": [
    {
     "name": "stdout",
     "output_type": "stream",
     "text": [
      "Saisissez un entier : 4\n",
      "Saisissez un entier : 3\n",
      "Saisissez un entier : 2\n",
      "Saisissez un entier : 1\n",
      "Saisissez un entier : 5\n",
      "Saisissez un entier : 6\n",
      "Saisissez un entier : 7\n",
      "Saisissez un entier : 8\n",
      "Saisissez un entier : 9\n",
      "Saisissez un entier : 10\n",
      "Entier à chercher ? 67\n",
      "Non Trouvé\n"
     ]
    }
   ],
   "source": [
    "rechercher()"
   ]
  },
  {
   "cell_type": "markdown",
   "metadata": {},
   "source": [
    "## Exercice 3 - Algorithme de tri"
   ]
  },
  {
   "cell_type": "markdown",
   "metadata": {},
   "source": [
    "Nous allons utiliser un *tri par insertion*. Il existe de nombreux autres algorithmes de tri. Ce qui les distingue est leur performance. Voici le principe du tri par insertion :\n",
    "\n",
    "- créer un tableau vide appelé \"sorted\". On appele le tableau à trier \"toSort\",\n",
    "- rechercher le plus petit élément de toSort et le placer à la première position de sorted,\n",
    "- rechercher ensuite le deuxième élément le plus petit dans toSort et le placer en deuxième position de sorted,\n",
    "- continuer de la même façon jusqu’à ce que le tableau sorted soit entièrement trié.\n",
    "\n",
    "Voici un exemple du fonctionnement de l’algorithme sur le tableau [10, 9, 5, 7, 3] :\n",
    "\n",
    "| sorted     | toSort |\n",
    "| :---:      |    :----:   |\n",
    "| []      | [10, 9, 5, 7, 3]       |\n",
    "| [3]      | [10, 9, 5, 7]       |\n",
    "| [3, 5]      | [10, 9, 7]       |\n",
    "| [3, 5, 7]      | [10, 9]       |\n",
    "| [3, 5, 7, 9]      | [10]       |\n",
    "| [3, 5, 7, 9, 10]      | []       |"
   ]
  },
  {
   "cell_type": "markdown",
   "metadata": {},
   "source": [
    "Q1. Ecrire l'algorithme de tri par insertion  \n",
    "Q2. Traduire cet algorithme en Python  \n",
    "Q3. Evaluer les performances de votre programme par rapport à celles de la méthode *sorted()* de la bibliothèque standard de Python."
   ]
  },
  {
   "cell_type": "code",
   "execution_count": 8,
   "metadata": {},
   "outputs": [],
   "source": [
    "def lePlusPetit(xs):\n",
    "    lpp = xs[0]\n",
    "    index = 0\n",
    "    for i in range(0, len(xs)):\n",
    "        if (xs[i] < lpp):\n",
    "            lpp = xs[i]\n",
    "            index = i\n",
    "    return (index, lpp)"
   ]
  },
  {
   "cell_type": "code",
   "execution_count": 9,
   "metadata": {},
   "outputs": [
    {
     "data": {
      "text/plain": [
       "(3, -45)"
      ]
     },
     "execution_count": 9,
     "metadata": {},
     "output_type": "execute_result"
    }
   ],
   "source": [
    "lePlusPetit([1, 6, 0, -45, 2])"
   ]
  },
  {
   "cell_type": "code",
   "execution_count": 21,
   "metadata": {},
   "outputs": [],
   "source": [
    "def insertionSort(sorted = [], toSort = []):\n",
    "    if len(toSort) == 0: # la syntaxe conseillée est 'if not toSort:'\n",
    "        return sorted\n",
    "    else:\n",
    "        (index, lpp) = lePlusPetit(toSort)\n",
    "        toSort.pop(index)\n",
    "        # print(\"toSort \", toSort)\n",
    "        sorted.append(lpp)\n",
    "        # print(\"sorted \", sorted)\n",
    "        return insertionSort(sorted, toSort)"
   ]
  },
  {
   "cell_type": "code",
   "execution_count": 11,
   "metadata": {},
   "outputs": [
    {
     "name": "stdout",
     "output_type": "stream",
     "text": [
      "[-45, 0, 1, 2, 6]\n"
     ]
    }
   ],
   "source": [
    "xs = insertionSort(toSort = [1, 6, 0, -45, 2])\n",
    "print(xs)"
   ]
  },
  {
   "cell_type": "markdown",
   "metadata": {},
   "source": [
    "La librairie standard de Python fournit de nombreuses méthodes permettant d'améliorer le code :"
   ]
  },
  {
   "cell_type": "code",
   "execution_count": 46,
   "metadata": {},
   "outputs": [],
   "source": [
    "def customizedInsertionSort(sorted = [], toSort = []):\n",
    "    if not toSort:\n",
    "        return sorted\n",
    "    else:\n",
    "        # En impératif\n",
    "        while toSort:\n",
    "            lpp = min(toSort)\n",
    "            sorted.append(lpp)\n",
    "            toSort.remove(lpp)\n",
    "        return sorted"
   ]
  },
  {
   "cell_type": "code",
   "execution_count": 47,
   "metadata": {},
   "outputs": [
    {
     "name": "stdout",
     "output_type": "stream",
     "text": [
      "[-45, 0, 1, 2, 6]\n"
     ]
    }
   ],
   "source": [
    "print(customizedInsertionSort(sorted = [], toSort = [1, 6, 0, -45, 2]))"
   ]
  },
  {
   "cell_type": "markdown",
   "metadata": {},
   "source": [
    "Notez que Python fournit déjà une méthode de tri dans la librairie standard :"
   ]
  },
  {
   "cell_type": "code",
   "execution_count": 48,
   "metadata": {},
   "outputs": [
    {
     "data": {
      "text/plain": [
       "[-45, 0, 1, 2, 6]"
      ]
     },
     "execution_count": 48,
     "metadata": {},
     "output_type": "execute_result"
    }
   ],
   "source": [
    "sorted([1, 6, 0, -45, 2])"
   ]
  },
  {
   "cell_type": "markdown",
   "metadata": {},
   "source": [
    "Nous allons maintenant comparer les performances des trois algorithmes de tri sur des listes aléatoires de tailles croissantes."
   ]
  },
  {
   "cell_type": "code",
   "execution_count": 53,
   "metadata": {},
   "outputs": [
    {
     "name": "stdout",
     "output_type": "stream",
     "text": [
      "[29, 17, 25, 20, 27]\n"
     ]
    }
   ],
   "source": [
    "import random\n",
    "#Generate 5 random numbers between 10 and 30\n",
    "randomlist = random.sample(range(10, 30), 5)\n",
    "print(randomlist)"
   ]
  },
  {
   "cell_type": "code",
   "execution_count": 54,
   "metadata": {
    "scrolled": true
   },
   "outputs": [
    {
     "name": "stdout",
     "output_type": "stream",
     "text": [
      "Fini !\n"
     ]
    }
   ],
   "source": [
    "import time\n",
    "\n",
    "# Création d'un fichier csv\n",
    "\n",
    "head = \"size;algo;time\\n\"\n",
    "f = open('performances.csv', 'w')\n",
    "f.write(head)\n",
    "\n",
    "# Tailles des tableaux : 10, 100, 1000, 10000\n",
    "for i in range(2, 6):\n",
    "    # 100 tableaux de chaque taille\n",
    "    for j in range (0, 100):\n",
    "        \n",
    "        randomlist = random.sample(range(1, 10 ** i), 10 ** (i - 1))\n",
    "        start_time = time.time()\n",
    "        sorted(randomlist)\n",
    "        duration = time.time() - start_time\n",
    "        f.write(str(10 ** (i - 1)) + \";\" + \"sorted()\" + \";\" + str(duration) + \"\\n\")\n",
    "        \n",
    "        start_time = time.time()\n",
    "        customizedInsertionSort([], randomlist)\n",
    "        duration = time.time() - start_time\n",
    "        f.write(str(10 ** (i - 1)) + \";\" + \"customizedInsertionSort()\" + \";\" + str(duration) + \"\\n\")\n",
    "        \n",
    "# Ferme le fichier\n",
    "f.close()\n",
    "print(\"Fini !\")"
   ]
  },
  {
   "cell_type": "markdown",
   "metadata": {},
   "source": [
    "Deux librairies importantes à connaitre en python pour l'analyse des données et leur visualisation sont respectivement [pandas](https://pandas.pydata.org/docs/) et [matplotlib](https://matplotlib.org). Nous explorerons plus précisément la librairie pandas dans le TP4."
   ]
  },
  {
   "cell_type": "code",
   "execution_count": 62,
   "metadata": {},
   "outputs": [
    {
     "data": {
      "text/html": [
       "<div>\n",
       "<style scoped>\n",
       "    .dataframe tbody tr th:only-of-type {\n",
       "        vertical-align: middle;\n",
       "    }\n",
       "\n",
       "    .dataframe tbody tr th {\n",
       "        vertical-align: top;\n",
       "    }\n",
       "\n",
       "    .dataframe thead th {\n",
       "        text-align: right;\n",
       "    }\n",
       "</style>\n",
       "<table border=\"1\" class=\"dataframe\">\n",
       "  <thead>\n",
       "    <tr style=\"text-align: right;\">\n",
       "      <th></th>\n",
       "      <th>size</th>\n",
       "      <th>algo</th>\n",
       "      <th>time</th>\n",
       "    </tr>\n",
       "  </thead>\n",
       "  <tbody>\n",
       "    <tr>\n",
       "      <th>0</th>\n",
       "      <td>10</td>\n",
       "      <td>sorted()</td>\n",
       "      <td>1.907349e-06</td>\n",
       "    </tr>\n",
       "    <tr>\n",
       "      <th>1</th>\n",
       "      <td>10</td>\n",
       "      <td>customizedInsertionSort()</td>\n",
       "      <td>7.867813e-06</td>\n",
       "    </tr>\n",
       "    <tr>\n",
       "      <th>2</th>\n",
       "      <td>10</td>\n",
       "      <td>sorted()</td>\n",
       "      <td>9.536743e-07</td>\n",
       "    </tr>\n",
       "    <tr>\n",
       "      <th>3</th>\n",
       "      <td>10</td>\n",
       "      <td>customizedInsertionSort()</td>\n",
       "      <td>6.198883e-06</td>\n",
       "    </tr>\n",
       "    <tr>\n",
       "      <th>4</th>\n",
       "      <td>10</td>\n",
       "      <td>sorted()</td>\n",
       "      <td>7.152557e-07</td>\n",
       "    </tr>\n",
       "    <tr>\n",
       "      <th>...</th>\n",
       "      <td>...</td>\n",
       "      <td>...</td>\n",
       "      <td>...</td>\n",
       "    </tr>\n",
       "    <tr>\n",
       "      <th>795</th>\n",
       "      <td>10000</td>\n",
       "      <td>customizedInsertionSort()</td>\n",
       "      <td>1.012901e+00</td>\n",
       "    </tr>\n",
       "    <tr>\n",
       "      <th>796</th>\n",
       "      <td>10000</td>\n",
       "      <td>sorted()</td>\n",
       "      <td>1.371145e-03</td>\n",
       "    </tr>\n",
       "    <tr>\n",
       "      <th>797</th>\n",
       "      <td>10000</td>\n",
       "      <td>customizedInsertionSort()</td>\n",
       "      <td>1.038343e+00</td>\n",
       "    </tr>\n",
       "    <tr>\n",
       "      <th>798</th>\n",
       "      <td>10000</td>\n",
       "      <td>sorted()</td>\n",
       "      <td>1.224995e-03</td>\n",
       "    </tr>\n",
       "    <tr>\n",
       "      <th>799</th>\n",
       "      <td>10000</td>\n",
       "      <td>customizedInsertionSort()</td>\n",
       "      <td>1.013828e+00</td>\n",
       "    </tr>\n",
       "  </tbody>\n",
       "</table>\n",
       "<p>800 rows × 3 columns</p>\n",
       "</div>"
      ],
      "text/plain": [
       "      size                       algo          time\n",
       "0       10                   sorted()  1.907349e-06\n",
       "1       10  customizedInsertionSort()  7.867813e-06\n",
       "2       10                   sorted()  9.536743e-07\n",
       "3       10  customizedInsertionSort()  6.198883e-06\n",
       "4       10                   sorted()  7.152557e-07\n",
       "..     ...                        ...           ...\n",
       "795  10000  customizedInsertionSort()  1.012901e+00\n",
       "796  10000                   sorted()  1.371145e-03\n",
       "797  10000  customizedInsertionSort()  1.038343e+00\n",
       "798  10000                   sorted()  1.224995e-03\n",
       "799  10000  customizedInsertionSort()  1.013828e+00\n",
       "\n",
       "[800 rows x 3 columns]"
      ]
     },
     "execution_count": 62,
     "metadata": {},
     "output_type": "execute_result"
    }
   ],
   "source": [
    "import pandas as pd\n",
    "import matplotlib.pyplot as plt\n",
    "\n",
    "# Lecture d'un fichier csv\n",
    "df = pd.read_csv(\"./performances.csv\", sep = \";\")\n",
    "df"
   ]
  },
  {
   "cell_type": "code",
   "execution_count": 63,
   "metadata": {},
   "outputs": [],
   "source": [
    "# time en ms\n",
    "df[\"time\"] = df[\"time\"] * 1000000"
   ]
  },
  {
   "cell_type": "code",
   "execution_count": 75,
   "metadata": {},
   "outputs": [
    {
     "data": {
      "text/html": [
       "<div>\n",
       "<style scoped>\n",
       "    .dataframe tbody tr th:only-of-type {\n",
       "        vertical-align: middle;\n",
       "    }\n",
       "\n",
       "    .dataframe tbody tr th {\n",
       "        vertical-align: top;\n",
       "    }\n",
       "\n",
       "    .dataframe thead th {\n",
       "        text-align: right;\n",
       "    }\n",
       "</style>\n",
       "<table border=\"1\" class=\"dataframe\">\n",
       "  <thead>\n",
       "    <tr style=\"text-align: right;\">\n",
       "      <th></th>\n",
       "      <th>size</th>\n",
       "      <th>algo</th>\n",
       "      <th>time</th>\n",
       "    </tr>\n",
       "  </thead>\n",
       "  <tbody>\n",
       "    <tr>\n",
       "      <th>0</th>\n",
       "      <td>10</td>\n",
       "      <td>customizedInsertionSort()</td>\n",
       "      <td>5.083084</td>\n",
       "    </tr>\n",
       "    <tr>\n",
       "      <th>1</th>\n",
       "      <td>10</td>\n",
       "      <td>sorted()</td>\n",
       "      <td>0.767708</td>\n",
       "    </tr>\n",
       "    <tr>\n",
       "      <th>2</th>\n",
       "      <td>100</td>\n",
       "      <td>customizedInsertionSort()</td>\n",
       "      <td>156.612396</td>\n",
       "    </tr>\n",
       "    <tr>\n",
       "      <th>3</th>\n",
       "      <td>100</td>\n",
       "      <td>sorted()</td>\n",
       "      <td>8.645058</td>\n",
       "    </tr>\n",
       "    <tr>\n",
       "      <th>4</th>\n",
       "      <td>1000</td>\n",
       "      <td>customizedInsertionSort()</td>\n",
       "      <td>9236.207008</td>\n",
       "    </tr>\n",
       "    <tr>\n",
       "      <th>5</th>\n",
       "      <td>1000</td>\n",
       "      <td>sorted()</td>\n",
       "      <td>88.443756</td>\n",
       "    </tr>\n",
       "    <tr>\n",
       "      <th>6</th>\n",
       "      <td>10000</td>\n",
       "      <td>customizedInsertionSort()</td>\n",
       "      <td>982843.785286</td>\n",
       "    </tr>\n",
       "    <tr>\n",
       "      <th>7</th>\n",
       "      <td>10000</td>\n",
       "      <td>sorted()</td>\n",
       "      <td>1187.260151</td>\n",
       "    </tr>\n",
       "  </tbody>\n",
       "</table>\n",
       "</div>"
      ],
      "text/plain": [
       "    size                       algo           time\n",
       "0     10  customizedInsertionSort()       5.083084\n",
       "1     10                   sorted()       0.767708\n",
       "2    100  customizedInsertionSort()     156.612396\n",
       "3    100                   sorted()       8.645058\n",
       "4   1000  customizedInsertionSort()    9236.207008\n",
       "5   1000                   sorted()      88.443756\n",
       "6  10000  customizedInsertionSort()  982843.785286\n",
       "7  10000                   sorted()    1187.260151"
      ]
     },
     "execution_count": 75,
     "metadata": {},
     "output_type": "execute_result"
    }
   ],
   "source": [
    "# Calcul de la moyenne\n",
    "ag = df.groupby([\"size\", \"algo\"]).mean().reset_index()\n",
    "ag"
   ]
  },
  {
   "cell_type": "code",
   "execution_count": 99,
   "metadata": {},
   "outputs": [],
   "source": [
    "x = ag[\"size\"].drop_duplicates()\n",
    "y_sorted = ag[ag[\"algo\"] == \"sorted()\"][\"time\"]\n",
    "y_custom = ag[ag[\"algo\"] == \"customizedInsertionSort()\"][\"time\"]"
   ]
  },
  {
   "cell_type": "code",
   "execution_count": 104,
   "metadata": {},
   "outputs": [
    {
     "data": {
      "text/plain": [
       "Text(0.5, 1.0, 'Algorithmes de tri')"
      ]
     },
     "execution_count": 104,
     "metadata": {},
     "output_type": "execute_result"
    },
    {
     "data": {
      "image/png": "[encoded data removed]",
      "text/plain": [
       "<Figure size 432x288 with 1 Axes>"
      ]
     },
     "metadata": {
      "needs_background": "light"
     },
     "output_type": "display_data"
    }
   ],
   "source": [
    "plt.figure()\n",
    "plt.xscale(\"log\")\n",
    "plt.plot(x, y_sorted, label = \"Sorted\")\n",
    "plt.plot(x, y_custom, label = \"Customized\")\n",
    "plt.legend(framealpha = 1, frameon = True)\n",
    "plt.title(\"Algorithmes de tri\")"
   ]
  }
 ],
 "metadata": {
  "kernelspec": {
   "display_name": "Python 3",
   "language": "python",
   "name": "python3"
  },
  "language_info": {
   "codemirror_mode": {
    "name": "ipython",
    "version": 3
   },
   "file_extension": ".py",
   "mimetype": "text/x-python",
   "name": "python",
   "nbconvert_exporter": "python",
   "pygments_lexer": "ipython3",
   "version": "3.8.5"
  },
  "latex_envs": {
   "LaTeX_envs_menu_present": true,
   "autoclose": false,
   "autocomplete": true,
   "bibliofile": "biblio.bib",
   "cite_by": "apalike",
   "current_citInitial": 1,
   "eqLabelWithNumbers": true,
   "eqNumInitial": 1,
   "hotkeys": {
    "equation": "Ctrl-E",
    "itemize": "Ctrl-I"
   },
   "labels_anchors": false,
   "latex_user_defs": false,
   "report_style_numbering": false,
   "user_envs_cfg": false
  }
 },
 "nbformat": 4,
 "nbformat_minor": 5
}
